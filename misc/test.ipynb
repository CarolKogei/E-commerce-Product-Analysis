##1. Importing Libraries
import time
import requests
from bs4 import BeautifulSoup
import pandas as pd
#2. Describing the base url and user agent variables
# setting the base url & user agent
baseurl = "https://www.kilimall.co.ke/"
headers = {'User-Agent' : 'Mozilla/5.0 (Windows NT 6.1; WOW64) AppleWebKit/537.36 (KHTML, like Gecko) Chrome/126.0.6439.0 AOL/9.7 AOLBuild/4343.4043.US Safari/537.36'} 
#3. A loop that iterates through the website, scrapes data
#(a) Scraping tv data with ratings
# getting data with product link
tv_links = []

for x in range(1,6):
    r = requests.get(f"https://www.kilimall.co.ke/category/televisions?backCid=5406&form=category&source=category|allCategory|televisions&page={x}")
    soup = BeautifulSoup(r.content, "html.parser")
    television_list = soup.find_all("div", class_ = "product-item")

    for television in television_list:
        for link in television.find_all("a", href = True):
            tv_links.append(baseurl + link["href"])

print(len(tv_links))