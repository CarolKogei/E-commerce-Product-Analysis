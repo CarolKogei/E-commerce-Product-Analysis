{
 "cells": [
  {
   "cell_type": "code",
   "execution_count": 1,
   "metadata": {},
   "outputs": [],
   "source": [
    "import requests\n",
    "from bs4 import BeautifulSoup\n",
    "import pandas as pd\n",
    "import csv\n",
    "\n",
    "def web_scraping(base_url, first_page_url):\n",
    "    descriptions = []\n",
    "    prices = []\n",
    "    older_prices = []\n",
    "    reviews_list = []\n",
    "\n",
    "    # Scrape the first page\n",
    "    r = requests.get(first_page_url)\n",
    "    print(f\"Fetching data from: {first_page_url} - Status: {r.status_code}\")\n",
    "\n",
    "    if r.status_code == 200:\n",
    "        soup = BeautifulSoup(r.text, 'html.parser')\n",
    "\n",
    "        # Extract product prices\n",
    "        price_elements = soup.find_all(\"div\", {\"class\": \"prc\"})\n",
    "        for price_element in price_elements:\n",
    "            prices.append(price_element.text.strip())\n",
    "\n",
    "        # Extract old prices\n",
    "        old_price_elements = soup.find_all(\"div\", class_=\"old\")\n",
    "        for old_price_element in old_price_elements:\n",
    "            older_prices.append(old_price_element.text.strip())\n",
    "\n",
    "        # Extract product descriptions\n",
    "        desc_elements = soup.find_all(\"h3\", class_=\"name\")\n",
    "        for desc_element in desc_elements:\n",
    "            descriptions.append(desc_element.text.strip())\n",
    "\n",
    "        # Extract reviews\n",
    "        reviews = soup.find_all(\"div\", class_=\"stars _s\")\n",
    "        for rev in reviews:\n",
    "            reviews_list.append(rev.text.strip())\n",
    "    else:\n",
    "        print(f\"Failed to fetch data from {first_page_url}\")\n",
    "\n",
    "    # Scrape pages 2 to 50\n",
    "    for i in range(2, 51):\n",
    "        page_url = f\"{base_url}{i}#catalog-listing\"\n",
    "        r = requests.get(page_url)\n",
    "        print(f\"Fetching data from: {page_url} - Status: {r.status_code}\")\n",
    "\n",
    "        if r.status_code != 200:\n",
    "            print(f\"Failed to fetch data from {page_url}\")\n",
    "            continue\n",
    "\n",
    "        soup = BeautifulSoup(r.text, 'html.parser')\n",
    "\n",
    "        # Extract product prices\n",
    "        price_elements = soup.find_all(\"div\", {\"class\": \"prc\"})\n",
    "        for price_element in price_elements:\n",
    "            prices.append(price_element.text.strip())\n",
    "\n",
    "        # Extract old prices\n",
    "        old_price_elements = soup.find_all(\"div\", class_=\"old\")\n",
    "        for old_price_element in old_price_elements:\n",
    "            older_prices.append(old_price_element.text.strip())\n",
    "\n",
    "        # Extract product descriptions\n",
    "        desc_elements = soup.find_all(\"h3\", class_=\"name\")\n",
    "        for desc_element in desc_elements:\n",
    "            descriptions.append(desc_element.text.strip())\n",
    "\n",
    "        # Extract reviews\n",
    "        reviews = soup.find_all(\"div\", class_=\"stars _s\")\n",
    "        for rev in reviews:\n",
    "            reviews_list.append(rev.text.strip())\n",
    "\n",
    "    # Return collected data\n",
    "    rows = list(zip(descriptions, prices, older_prices, reviews_list))\n",
    "    return rows\n",
    "\n"
   ]
  },
  {
   "cell_type": "code",
   "execution_count": 2,
   "metadata": {},
   "outputs": [],
   "source": [
    "def collect_data_phones():\n",
    "\n",
    "    data = web_scraping(base_url, first_page_url)\n",
    "\n",
    "    # Convert to DataFrame for easier handling\n",
    "    df = pd.DataFrame(data, columns=['Description', 'Price', 'Old Price', 'Reviews'])\n",
    "\n",
    "    # Save to CSV\n",
    "    df.to_csv('jumia_mobile_phones.csv', index=False)"
   ]
  },
  {
   "cell_type": "code",
   "execution_count": 3,
   "metadata": {},
   "outputs": [
    {
     "name": "stdout",
     "output_type": "stream",
     "text": [
      "Fetching data from: https://www.jumia.co.ke/mobile-phones/ - Status: 200\n",
      "Fetching data from: https://www.jumia.co.ke//mobile-phones/?page=2#catalog-listing - Status: 200\n",
      "Fetching data from: https://www.jumia.co.ke//mobile-phones/?page=3#catalog-listing - Status: 200\n",
      "Fetching data from: https://www.jumia.co.ke//mobile-phones/?page=4#catalog-listing - Status: 200\n",
      "Fetching data from: https://www.jumia.co.ke//mobile-phones/?page=5#catalog-listing - Status: 200\n",
      "Fetching data from: https://www.jumia.co.ke//mobile-phones/?page=6#catalog-listing - Status: 200\n",
      "Fetching data from: https://www.jumia.co.ke//mobile-phones/?page=7#catalog-listing - Status: 200\n",
      "Fetching data from: https://www.jumia.co.ke//mobile-phones/?page=8#catalog-listing - Status: 200\n",
      "Fetching data from: https://www.jumia.co.ke//mobile-phones/?page=9#catalog-listing - Status: 200\n",
      "Fetching data from: https://www.jumia.co.ke//mobile-phones/?page=10#catalog-listing - Status: 200\n",
      "Fetching data from: https://www.jumia.co.ke//mobile-phones/?page=11#catalog-listing - Status: 200\n",
      "Fetching data from: https://www.jumia.co.ke//mobile-phones/?page=12#catalog-listing - Status: 200\n",
      "Fetching data from: https://www.jumia.co.ke//mobile-phones/?page=13#catalog-listing - Status: 200\n",
      "Fetching data from: https://www.jumia.co.ke//mobile-phones/?page=14#catalog-listing - Status: 200\n",
      "Fetching data from: https://www.jumia.co.ke//mobile-phones/?page=15#catalog-listing - Status: 200\n",
      "Fetching data from: https://www.jumia.co.ke//mobile-phones/?page=16#catalog-listing - Status: 200\n",
      "Fetching data from: https://www.jumia.co.ke//mobile-phones/?page=17#catalog-listing - Status: 200\n",
      "Fetching data from: https://www.jumia.co.ke//mobile-phones/?page=18#catalog-listing - Status: 200\n",
      "Fetching data from: https://www.jumia.co.ke//mobile-phones/?page=19#catalog-listing - Status: 200\n",
      "Fetching data from: https://www.jumia.co.ke//mobile-phones/?page=20#catalog-listing - Status: 200\n",
      "Fetching data from: https://www.jumia.co.ke//mobile-phones/?page=21#catalog-listing - Status: 200\n",
      "Fetching data from: https://www.jumia.co.ke//mobile-phones/?page=22#catalog-listing - Status: 200\n",
      "Fetching data from: https://www.jumia.co.ke//mobile-phones/?page=23#catalog-listing - Status: 200\n",
      "Fetching data from: https://www.jumia.co.ke//mobile-phones/?page=24#catalog-listing - Status: 200\n",
      "Fetching data from: https://www.jumia.co.ke//mobile-phones/?page=25#catalog-listing - Status: 200\n",
      "Fetching data from: https://www.jumia.co.ke//mobile-phones/?page=26#catalog-listing - Status: 200\n",
      "Fetching data from: https://www.jumia.co.ke//mobile-phones/?page=27#catalog-listing - Status: 200\n",
      "Fetching data from: https://www.jumia.co.ke//mobile-phones/?page=28#catalog-listing - Status: 200\n",
      "Fetching data from: https://www.jumia.co.ke//mobile-phones/?page=29#catalog-listing - Status: 200\n",
      "Fetching data from: https://www.jumia.co.ke//mobile-phones/?page=30#catalog-listing - Status: 200\n",
      "Fetching data from: https://www.jumia.co.ke//mobile-phones/?page=31#catalog-listing - Status: 200\n",
      "Fetching data from: https://www.jumia.co.ke//mobile-phones/?page=32#catalog-listing - Status: 200\n",
      "Fetching data from: https://www.jumia.co.ke//mobile-phones/?page=33#catalog-listing - Status: 200\n",
      "Fetching data from: https://www.jumia.co.ke//mobile-phones/?page=34#catalog-listing - Status: 200\n",
      "Fetching data from: https://www.jumia.co.ke//mobile-phones/?page=35#catalog-listing - Status: 200\n",
      "Fetching data from: https://www.jumia.co.ke//mobile-phones/?page=36#catalog-listing - Status: 200\n",
      "Fetching data from: https://www.jumia.co.ke//mobile-phones/?page=37#catalog-listing - Status: 200\n",
      "Fetching data from: https://www.jumia.co.ke//mobile-phones/?page=38#catalog-listing - Status: 200\n",
      "Fetching data from: https://www.jumia.co.ke//mobile-phones/?page=39#catalog-listing - Status: 200\n",
      "Fetching data from: https://www.jumia.co.ke//mobile-phones/?page=40#catalog-listing - Status: 200\n",
      "Fetching data from: https://www.jumia.co.ke//mobile-phones/?page=41#catalog-listing - Status: 200\n",
      "Fetching data from: https://www.jumia.co.ke//mobile-phones/?page=42#catalog-listing - Status: 200\n",
      "Fetching data from: https://www.jumia.co.ke//mobile-phones/?page=43#catalog-listing - Status: 200\n",
      "Fetching data from: https://www.jumia.co.ke//mobile-phones/?page=44#catalog-listing - Status: 200\n",
      "Fetching data from: https://www.jumia.co.ke//mobile-phones/?page=45#catalog-listing - Status: 200\n",
      "Fetching data from: https://www.jumia.co.ke//mobile-phones/?page=46#catalog-listing - Status: 200\n",
      "Fetching data from: https://www.jumia.co.ke//mobile-phones/?page=47#catalog-listing - Status: 200\n",
      "Fetching data from: https://www.jumia.co.ke//mobile-phones/?page=48#catalog-listing - Status: 200\n",
      "Fetching data from: https://www.jumia.co.ke//mobile-phones/?page=49#catalog-listing - Status: 200\n",
      "Fetching data from: https://www.jumia.co.ke//mobile-phones/?page=50#catalog-listing - Status: 200\n"
     ]
    }
   ],
   "source": [
    " #Base URL for pages 2 to 50\n",
    "base_url = \"https://www.jumia.co.ke//mobile-phones/?page=\"\n",
    "\n",
    "# URL for the first page\n",
    "first_page_url = \"https://www.jumia.co.ke/mobile-phones/\"\n",
    "\n",
    "collect_data_phones()"
   ]
  },
  {
   "cell_type": "code",
   "execution_count": 4,
   "metadata": {},
   "outputs": [
    {
     "data": {
      "text/plain": [
       "1118"
      ]
     },
     "execution_count": 4,
     "metadata": {},
     "output_type": "execute_result"
    }
   ],
   "source": [
    "dataset = pd.read_csv(\"jumia_mobile_phones.csv\")\n",
    "dataset.head(10)\n",
    "len(dataset)"
   ]
  },
  {
   "cell_type": "code",
   "execution_count": null,
   "metadata": {},
   "outputs": [],
   "source": []
  }
 ],
 "metadata": {
  "kernelspec": {
   "display_name": "Python 3",
   "language": "python",
   "name": "python3"
  },
  "language_info": {
   "codemirror_mode": {
    "name": "ipython",
    "version": 3
   },
   "file_extension": ".py",
   "mimetype": "text/x-python",
   "name": "python",
   "nbconvert_exporter": "python",
   "pygments_lexer": "ipython3",
   "version": "3.12.8"
  }
 },
 "nbformat": 4,
 "nbformat_minor": 2
}
