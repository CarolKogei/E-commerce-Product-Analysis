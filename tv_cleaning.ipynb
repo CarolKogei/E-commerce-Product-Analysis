{
 "cells": [
  {
   "cell_type": "markdown",
   "metadata": {},
   "source": [
    "## Data Cleaning"
   ]
  },
  {
   "cell_type": "markdown",
   "metadata": {},
   "source": [
    "### 1. Importing libraries"
   ]
  },
  {
   "cell_type": "code",
   "execution_count": 1,
   "metadata": {},
   "outputs": [],
   "source": [
    "import pandas as pd\n",
    "import re"
   ]
  },
  {
   "cell_type": "markdown",
   "metadata": {},
   "source": [
    "### Data extraction"
   ]
  },
  {
   "cell_type": "code",
   "execution_count": 4,
   "metadata": {},
   "outputs": [
    {
     "name": "stdout",
     "output_type": "stream",
     "text": [
      "                                        product_name product_reviews  \\\n",
      "0  Vitron 32 Inch Frameless Smart TV HD Netflix T...          (1347)   \n",
      "1  Vitron 32 inch Frameless Television HTC 3218 L...           (710)   \n",
      "2  Vitron 43 inch Smart TV HTC 4388FS Android Tel...          (1142)   \n",
      "3  VITRON BLUETOOTH-ENABLED 32\" INCH HTC3200S,FRA...           (947)   \n",
      "4  VITRON 32\" Inch DIGITAL TELEVISION FRAMELESS H...           (243)   \n",
      "\n",
      "  product_price  \n",
      "0    KSh 11,199  \n",
      "1    KSh 11,099  \n",
      "2    KSh 18,499  \n",
      "3    KSh 13,978  \n",
      "4    KSh 12,998  \n"
     ]
    }
   ],
   "source": [
    "# Load the csv data\n",
    "tv_data = pd.read_csv(\"kilimall_tvs_no_rating.csv\")\n",
    "\n",
    "# preview the data\n",
    "print(tv_data.head())"
   ]
  },
  {
   "cell_type": "code",
   "execution_count": 7,
   "metadata": {},
   "outputs": [],
   "source": [
    "# data extraction logic\n",
    "def extract_data(product_name):\n",
    "    # extract the brand name\n",
    "    brand = product_name.split(\" \")[0]\n",
    "\n",
    "    # extract size(e.g. 32 inch)\n",
    "    size_match = re.search(r\"(\\d+)\\s*inch\", product_name, re.IGNORECASE)\n",
    "    size = size_match.group(1) if size_match else None\n",
    "\n",
    "    # remove the brand and size from the product name\n",
    "    description = re.sub(rf\"{brand}|(\\d+\\s*inch)\", \"\", title, flags=re.IGNORECASE).strip()\n",
    "\n",
    "    return brand, size, description\n",
    "    "
   ]
  },
  {
   "cell_type": "code",
   "execution_count": null,
   "metadata": {},
   "outputs": [],
   "source": [
    "# apply the extraction logic to the product name column\n",
    "\n",
    "tv_data[[\"brand\", \"size\", \"de  \"]]"
   ]
  }
 ],
 "metadata": {
  "kernelspec": {
   "display_name": "env",
   "language": "python",
   "name": "python3"
  },
  "language_info": {
   "codemirror_mode": {
    "name": "ipython",
    "version": 3
   },
   "file_extension": ".py",
   "mimetype": "text/x-python",
   "name": "python",
   "nbconvert_exporter": "python",
   "pygments_lexer": "ipython3",
   "version": "3.12.8"
  }
 },
 "nbformat": 4,
 "nbformat_minor": 2
}
