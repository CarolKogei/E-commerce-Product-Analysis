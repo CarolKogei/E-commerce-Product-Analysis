{
 "cells": [
  {
   "cell_type": "markdown",
   "metadata": {},
   "source": [
    "## Data Cleaning"
   ]
  },
  {
   "cell_type": "markdown",
   "metadata": {},
   "source": [
    "### 1. Importing libraries"
   ]
  },
  {
   "cell_type": "code",
   "execution_count": 1,
   "metadata": {},
   "outputs": [],
   "source": [
    "import pandas as pd\n",
    "import re"
   ]
  },
  {
   "cell_type": "markdown",
   "metadata": {},
   "source": [
    "### 2. Data extraction"
   ]
  },
  {
   "cell_type": "code",
   "execution_count": 24,
   "metadata": {},
   "outputs": [
    {
     "data": {
      "text/html": [
       "<div>\n",
       "<style scoped>\n",
       "    .dataframe tbody tr th:only-of-type {\n",
       "        vertical-align: middle;\n",
       "    }\n",
       "\n",
       "    .dataframe tbody tr th {\n",
       "        vertical-align: top;\n",
       "    }\n",
       "\n",
       "    .dataframe thead th {\n",
       "        text-align: right;\n",
       "    }\n",
       "</style>\n",
       "<table border=\"1\" class=\"dataframe\">\n",
       "  <thead>\n",
       "    <tr style=\"text-align: right;\">\n",
       "      <th></th>\n",
       "      <th>product_name</th>\n",
       "      <th>product_reviews</th>\n",
       "      <th>product_price</th>\n",
       "    </tr>\n",
       "  </thead>\n",
       "  <tbody>\n",
       "    <tr>\n",
       "      <th>0</th>\n",
       "      <td>Vitron 32 Inch Frameless Smart TV HD Netflix T...</td>\n",
       "      <td>(1347)</td>\n",
       "      <td>KSh 11,199</td>\n",
       "    </tr>\n",
       "    <tr>\n",
       "      <th>1</th>\n",
       "      <td>Vitron 32 inch Frameless Television HTC 3218 L...</td>\n",
       "      <td>(710)</td>\n",
       "      <td>KSh 11,099</td>\n",
       "    </tr>\n",
       "    <tr>\n",
       "      <th>2</th>\n",
       "      <td>Vitron 43 inch Smart TV HTC 4388FS Android Tel...</td>\n",
       "      <td>(1142)</td>\n",
       "      <td>KSh 18,499</td>\n",
       "    </tr>\n",
       "    <tr>\n",
       "      <th>3</th>\n",
       "      <td>VITRON BLUETOOTH-ENABLED 32\" INCH HTC3200S,FRA...</td>\n",
       "      <td>(947)</td>\n",
       "      <td>KSh 13,978</td>\n",
       "    </tr>\n",
       "    <tr>\n",
       "      <th>4</th>\n",
       "      <td>VITRON 32\" Inch DIGITAL TELEVISION FRAMELESS H...</td>\n",
       "      <td>(243)</td>\n",
       "      <td>KSh 12,998</td>\n",
       "    </tr>\n",
       "  </tbody>\n",
       "</table>\n",
       "</div>"
      ],
      "text/plain": [
       "                                        product_name product_reviews  \\\n",
       "0  Vitron 32 Inch Frameless Smart TV HD Netflix T...          (1347)   \n",
       "1  Vitron 32 inch Frameless Television HTC 3218 L...           (710)   \n",
       "2  Vitron 43 inch Smart TV HTC 4388FS Android Tel...          (1142)   \n",
       "3  VITRON BLUETOOTH-ENABLED 32\" INCH HTC3200S,FRA...           (947)   \n",
       "4  VITRON 32\" Inch DIGITAL TELEVISION FRAMELESS H...           (243)   \n",
       "\n",
       "  product_price  \n",
       "0    KSh 11,199  \n",
       "1    KSh 11,099  \n",
       "2    KSh 18,499  \n",
       "3    KSh 13,978  \n",
       "4    KSh 12,998  "
      ]
     },
     "execution_count": 24,
     "metadata": {},
     "output_type": "execute_result"
    }
   ],
   "source": [
    "# Load the csv data\n",
    "tv_data = pd.read_csv(\"kilimall_tvs_no_rating.csv\")\n",
    "\n",
    "# preview the data\n",
    "tv_data.head()"
   ]
  },
  {
   "cell_type": "code",
   "execution_count": 36,
   "metadata": {},
   "outputs": [
    {
     "data": {
      "text/html": [
       "<div>\n",
       "<style scoped>\n",
       "    .dataframe tbody tr th:only-of-type {\n",
       "        vertical-align: middle;\n",
       "    }\n",
       "\n",
       "    .dataframe tbody tr th {\n",
       "        vertical-align: top;\n",
       "    }\n",
       "\n",
       "    .dataframe thead th {\n",
       "        text-align: right;\n",
       "    }\n",
       "</style>\n",
       "<table border=\"1\" class=\"dataframe\">\n",
       "  <thead>\n",
       "    <tr style=\"text-align: right;\">\n",
       "      <th></th>\n",
       "      <th>product_name</th>\n",
       "      <th>product_reviews</th>\n",
       "      <th>product_price</th>\n",
       "      <th>clean_product_name</th>\n",
       "    </tr>\n",
       "  </thead>\n",
       "  <tbody>\n",
       "    <tr>\n",
       "      <th>0</th>\n",
       "      <td>Vitron 32 Inch Frameless Smart TV HD Netflix T...</td>\n",
       "      <td>(1347)</td>\n",
       "      <td>KSh 11,199</td>\n",
       "      <td>Vitron 32 Inch Frameless Smart TV HD Netflix T...</td>\n",
       "    </tr>\n",
       "    <tr>\n",
       "      <th>1</th>\n",
       "      <td>Vitron 32 inch Frameless Television HTC 3218 L...</td>\n",
       "      <td>(710)</td>\n",
       "      <td>KSh 11,099</td>\n",
       "      <td>Vitron 32 inch Frameless Television HTC 3218 L...</td>\n",
       "    </tr>\n",
       "    <tr>\n",
       "      <th>2</th>\n",
       "      <td>Vitron 43 inch Smart TV HTC 4388FS Android Tel...</td>\n",
       "      <td>(1142)</td>\n",
       "      <td>KSh 18,499</td>\n",
       "      <td>Vitron 43 inch Smart TV HTC 4388FS Android Tel...</td>\n",
       "    </tr>\n",
       "    <tr>\n",
       "      <th>3</th>\n",
       "      <td>VITRON BLUETOOTH-ENABLED 32\" INCH HTC3200S,FRA...</td>\n",
       "      <td>(947)</td>\n",
       "      <td>KSh 13,978</td>\n",
       "      <td>VITRON BLUETOOTH-ENABLED 32 INCH HTC3200S,FRAM...</td>\n",
       "    </tr>\n",
       "    <tr>\n",
       "      <th>4</th>\n",
       "      <td>VITRON 32\" Inch DIGITAL TELEVISION FRAMELESS H...</td>\n",
       "      <td>(243)</td>\n",
       "      <td>KSh 12,998</td>\n",
       "      <td>VITRON 32 Inch DIGITAL TELEVISION FRAMELESS HT...</td>\n",
       "    </tr>\n",
       "  </tbody>\n",
       "</table>\n",
       "</div>"
      ],
      "text/plain": [
       "                                        product_name product_reviews  \\\n",
       "0  Vitron 32 Inch Frameless Smart TV HD Netflix T...          (1347)   \n",
       "1  Vitron 32 inch Frameless Television HTC 3218 L...           (710)   \n",
       "2  Vitron 43 inch Smart TV HTC 4388FS Android Tel...          (1142)   \n",
       "3  VITRON BLUETOOTH-ENABLED 32\" INCH HTC3200S,FRA...           (947)   \n",
       "4  VITRON 32\" Inch DIGITAL TELEVISION FRAMELESS H...           (243)   \n",
       "\n",
       "  product_price                                 clean_product_name  \n",
       "0    KSh 11,199  Vitron 32 Inch Frameless Smart TV HD Netflix T...  \n",
       "1    KSh 11,099  Vitron 32 inch Frameless Television HTC 3218 L...  \n",
       "2    KSh 18,499  Vitron 43 inch Smart TV HTC 4388FS Android Tel...  \n",
       "3    KSh 13,978  VITRON BLUETOOTH-ENABLED 32 INCH HTC3200S,FRAM...  \n",
       "4    KSh 12,998  VITRON 32 Inch DIGITAL TELEVISION FRAMELESS HT...  "
      ]
     },
     "execution_count": 36,
     "metadata": {},
     "output_type": "execute_result"
    }
   ],
   "source": [
    "# the product name includes emojis, that need to be edited out before cleaning\n",
    "\n",
    "# Function to remove emojis and special characters\n",
    "def remove_emojis(text):\n",
    "    return re.sub(r\"[^\\w\\s,.-]\", \"\", text)\n",
    "\n",
    "# Apply the function to the \"product_name\" column\n",
    "tv_data[\"clean_product_name\"] = tv_data[\"product_name\"].apply(remove_emojis)\n",
    "\n",
    "# Save the \"clean_product_name\" column to a CSV file\n",
    "tv_data[[\"clean_product_name\"]].to_csv(\"no_emojis_tv_product_names.csv\", index=False)\n",
    "\n",
    "tv_data.head()"
   ]
  },
  {
   "cell_type": "markdown",
   "metadata": {},
   "source": [
    "The regex pattern [^\\w\\s,.-] matches anything that is not a word character (\\w), whitespace (\\s), comma (,), period (.), or hyphen (-). This helps remove emojis and special characters while keeping alphanumeric characters and common punctuation."
   ]
  },
  {
   "cell_type": "markdown",
   "metadata": {},
   "source": [
    "### Method 1: Extracting Brand, Size and Description"
   ]
  },
  {
   "cell_type": "code",
   "execution_count": 77,
   "metadata": {},
   "outputs": [],
   "source": [
    "# data extraction logic\n",
    "def extract_data(tv_data_column):\n",
    "    # extract the brand name\n",
    "    brand = tv_data_column.split(\" \")[0]\n",
    "\n",
    "    # Escape the brand for use in the regex\n",
    "    escaped_brand = re.escape(brand)\n",
    "\n",
    "    # extract size(e.g. 32 inch)\n",
    "    size_match = re.search(r\"(\\d+)\\s*inch\", tv_data_column, re.IGNORECASE)\n",
    "    size = size_match.group(1) if size_match else None\n",
    "\n",
    "    # remove the brand and size from the product name\n",
    "    description = re.sub(rf\"{escaped_brand}|(\\d+\\s*inch)\", \"\", tv_data_column, flags=re.IGNORECASE).strip()\n",
    "\n",
    "    return brand, size, description\n",
    "    "
   ]
  },
  {
   "cell_type": "code",
   "execution_count": 78,
   "metadata": {},
   "outputs": [
    {
     "data": {
      "text/html": [
       "<div>\n",
       "<style scoped>\n",
       "    .dataframe tbody tr th:only-of-type {\n",
       "        vertical-align: middle;\n",
       "    }\n",
       "\n",
       "    .dataframe tbody tr th {\n",
       "        vertical-align: top;\n",
       "    }\n",
       "\n",
       "    .dataframe thead th {\n",
       "        text-align: right;\n",
       "    }\n",
       "</style>\n",
       "<table border=\"1\" class=\"dataframe\">\n",
       "  <thead>\n",
       "    <tr style=\"text-align: right;\">\n",
       "      <th></th>\n",
       "      <th>product_name</th>\n",
       "      <th>product_reviews</th>\n",
       "      <th>product_price</th>\n",
       "      <th>clean_product_name</th>\n",
       "      <th>description</th>\n",
       "      <th>brand</th>\n",
       "      <th>size</th>\n",
       "    </tr>\n",
       "  </thead>\n",
       "  <tbody>\n",
       "    <tr>\n",
       "      <th>0</th>\n",
       "      <td>Vitron 32 Inch Frameless Smart TV HD Netflix T...</td>\n",
       "      <td>(1347)</td>\n",
       "      <td>KSh 11,199</td>\n",
       "      <td>Vitron 32 Inch Frameless Smart TV HD Netflix T...</td>\n",
       "      <td>Frameless Smart TV HD Netflix TV HTC3200S Yout...</td>\n",
       "      <td>Vitron</td>\n",
       "      <td>32</td>\n",
       "    </tr>\n",
       "    <tr>\n",
       "      <th>1</th>\n",
       "      <td>Vitron 32 inch Frameless Television HTC 3218 L...</td>\n",
       "      <td>(710)</td>\n",
       "      <td>KSh 11,099</td>\n",
       "      <td>Vitron 32 inch Frameless Television HTC 3218 L...</td>\n",
       "      <td>Frameless Television HTC 3218 LED Digital TV D...</td>\n",
       "      <td>Vitron</td>\n",
       "      <td>32</td>\n",
       "    </tr>\n",
       "    <tr>\n",
       "      <th>2</th>\n",
       "      <td>Vitron 43 inch Smart TV HTC 4388FS Android Tel...</td>\n",
       "      <td>(1142)</td>\n",
       "      <td>KSh 18,499</td>\n",
       "      <td>Vitron 43 inch Smart TV HTC 4388FS Android Tel...</td>\n",
       "      <td>Smart TV HTC 4388FS Android Television Full HD...</td>\n",
       "      <td>Vitron</td>\n",
       "      <td>43</td>\n",
       "    </tr>\n",
       "    <tr>\n",
       "      <th>3</th>\n",
       "      <td>VITRON BLUETOOTH-ENABLED 32\" INCH HTC3200S,FRA...</td>\n",
       "      <td>(947)</td>\n",
       "      <td>KSh 13,978</td>\n",
       "      <td>VITRON BLUETOOTH-ENABLED 32 INCH HTC3200S,FRAM...</td>\n",
       "      <td>BLUETOOTH-ENABLED  HTC3200S,FRAMELESS Smart An...</td>\n",
       "      <td>VITRON</td>\n",
       "      <td>32</td>\n",
       "    </tr>\n",
       "    <tr>\n",
       "      <th>4</th>\n",
       "      <td>VITRON 32\" Inch DIGITAL TELEVISION FRAMELESS H...</td>\n",
       "      <td>(243)</td>\n",
       "      <td>KSh 12,998</td>\n",
       "      <td>VITRON 32 Inch DIGITAL TELEVISION FRAMELESS HT...</td>\n",
       "      <td>DIGITAL TELEVISION FRAMELESS HTC3218  LED TV U...</td>\n",
       "      <td>VITRON</td>\n",
       "      <td>32</td>\n",
       "    </tr>\n",
       "  </tbody>\n",
       "</table>\n",
       "</div>"
      ],
      "text/plain": [
       "                                        product_name product_reviews  \\\n",
       "0  Vitron 32 Inch Frameless Smart TV HD Netflix T...          (1347)   \n",
       "1  Vitron 32 inch Frameless Television HTC 3218 L...           (710)   \n",
       "2  Vitron 43 inch Smart TV HTC 4388FS Android Tel...          (1142)   \n",
       "3  VITRON BLUETOOTH-ENABLED 32\" INCH HTC3200S,FRA...           (947)   \n",
       "4  VITRON 32\" Inch DIGITAL TELEVISION FRAMELESS H...           (243)   \n",
       "\n",
       "  product_price                                 clean_product_name  \\\n",
       "0    KSh 11,199  Vitron 32 Inch Frameless Smart TV HD Netflix T...   \n",
       "1    KSh 11,099  Vitron 32 inch Frameless Television HTC 3218 L...   \n",
       "2    KSh 18,499  Vitron 43 inch Smart TV HTC 4388FS Android Tel...   \n",
       "3    KSh 13,978  VITRON BLUETOOTH-ENABLED 32 INCH HTC3200S,FRAM...   \n",
       "4    KSh 12,998  VITRON 32 Inch DIGITAL TELEVISION FRAMELESS HT...   \n",
       "\n",
       "                                         description   brand size  \n",
       "0  Frameless Smart TV HD Netflix TV HTC3200S Yout...  Vitron   32  \n",
       "1  Frameless Television HTC 3218 LED Digital TV D...  Vitron   32  \n",
       "2  Smart TV HTC 4388FS Android Television Full HD...  Vitron   43  \n",
       "3  BLUETOOTH-ENABLED  HTC3200S,FRAMELESS Smart An...  VITRON   32  \n",
       "4  DIGITAL TELEVISION FRAMELESS HTC3218  LED TV U...  VITRON   32  "
      ]
     },
     "execution_count": 78,
     "metadata": {},
     "output_type": "execute_result"
    }
   ],
   "source": [
    "# apply the extraction logic to the product name column\n",
    "\n",
    "tv_data[[\"brand\", \"size\", \"description\"]] = tv_data[\"clean_product_name\"].apply(\n",
    "    lambda x: pd.Series(extract_data(x))\n",
    "    )\n",
    "\n",
    "# Save the updated dataset\n",
    "tv_data.to_csv(\"tv_data_extracted.csv\", index=False)\n",
    "\n",
    "tv_data.head()"
   ]
  },
  {
   "cell_type": "code",
   "execution_count": 79,
   "metadata": {},
   "outputs": [
    {
     "data": {
      "text/plain": [
       "(4239, 7)"
      ]
     },
     "execution_count": 79,
     "metadata": {},
     "output_type": "execute_result"
    }
   ],
   "source": [
    "# shape\n",
    "tv_data.shape"
   ]
  },
  {
   "cell_type": "code",
   "execution_count": 80,
   "metadata": {},
   "outputs": [
    {
     "name": "stdout",
     "output_type": "stream",
     "text": [
      "['Vitron' 'VITRON' 'GLD' 'BLUETOOTH' 'Special' 'Artel' 'Vision' 'LYONS'\n",
      " 'EOCO' 'BLUETOOTH-ENABLED' 'CTC' 'AILYONS' 'Skyworth' 'TCL' 'AMTEC'\n",
      " 'Hisense' 'Solarmax' 'Amtec' 'VISION' 'New' 'Synix' 'Ailyons' 'Wyinix'\n",
      " 'Haier' 'NEW' 'VITRON50' 'OFFER' 'LG' 'Euroken' 'SOLARMAX' 'Infinix' 'MG'\n",
      " 'HISENSE' 'CTC32' 'TOP' 'Syinix' 'Royal' 'vision' 'Vitron32' 'Gld'\n",
      " 'CLEARANCE' 'HAIER' 'Samsung' 'OFFERVITRON' 'GLD32' 'HIFINIT' 'Best'\n",
      " 'ROYAL' '' 'Hisense32' 'Solar' 'SAMSUNG' 'Glaze' 'Globalstar' 'SKYWORTH'\n",
      " 'Latest' 'VITRON43' 'KONKA' 'SYINIX' 'Tcl' 'TV' '23' 'Hisense43inch'\n",
      " 'Hisense43' 'VITRON55' '22quot' 'TORNADO' 'GLOBALSTAR' 'VITRON32'\n",
      " 'Amtech' 'VITRON50Inch' 'Share' '32' 'GOOD' 'SKYWORTHQUALITY' '55' 'SAVE'\n",
      " 'Sony' '43' 'TV.' 'The' '43inch' '40INCH' 'CRAZY' 'WK' 'ENJOY'\n",
      " 'VisionPlus' 'ANNIVERSARY' 'STAR' 'ANNIVESARY' 'BLACK' 'Amtec32'\n",
      " 'Vision32' 'SONAR' 'Television' 'TCL43' 'Infinix32' 'CL' 'BRING' 'ALYONS'\n",
      " 'Premier' 'GLD,' 'FESTIVEOFFERSSMAET' 'VISION43' 'VISION32' 'Vitron,40'\n",
      " 'TCL32' 'GLAZE50' 'itron' '43S5400' '4388FS,43' 'Vitron,43' 'SONY'\n",
      " 'Syinix32' 'Skyworth32' 'AIYLONS' 'Itel' 'GLAZE' 'SMART' 'ENNOY'\n",
      " 'Skyworth32inch' 'VisionPlus32' 'LIMITED' 'AMTEC43' 'CTC32Inch' '19'\n",
      " 'SKYMAX' 'GREAT' 'VISIONPLUS' '22' 'art' '32inch'\n",
      " 'SAMSUNG,UA32T5300AU,32' 'Von' 'Ica' '24INCH' 'Konka' 'Ailynos' 'SHARE'\n",
      " 'Ailyon' 'BEST' 'SPECIAL' '50' 'RESTOCKED' 'SARDIN' 'WEYON' 'AiLyons'\n",
      " '24' '65' 'Sonar' 'Skyview' 'premier' 'StarMax' 'OFFERSynix' 'vitron'\n",
      " 'Iconix' 'VISIONPLUS43' 'Frameless' 'Hisense32inch' 'HTC4388FS' 'HTC'\n",
      " 'SM100' 'Get' 'HTC5568US' 'IRRESTITABLE' 'Promotion' 'HOT' 'CONNECTING'\n",
      " 'Android' 'AUGUST' 'Lg' 'HANA' 'ICA' 'EUROKEN' '32quot' 'Viewo' 'CT-22'\n",
      " '-' 'EXCLUSIVE' '40' ',' 'ORIGINAL' 'LG,' 'Toshiro' 'Star' 'AFFORDABLE'\n",
      " 'VON' 'WYinix' 'amtec' 'XIAOMI' '58' '70' '40T5300' '85']\n",
      "Frequency of available brands:\n",
      " brand\n",
      "Vitron     748\n",
      "TCL        463\n",
      "Hisense    378\n",
      "VITRON     310\n",
      "CTC        192\n",
      "          ... \n",
      "XIAOMI       1\n",
      "58           1\n",
      "70           1\n",
      "40T5300      1\n",
      "85           1\n",
      "Name: count, Length: 194, dtype: int64\n"
     ]
    }
   ],
   "source": [
    "# exploring clean dataframe\n",
    "unique_brands = tv_data[\"brand\"].unique()\n",
    "print(unique_brands)\n",
    "\n",
    "#number of unique counts\n",
    "unique_brands_counts = tv_data[\"brand\"].value_counts()\n",
    "\n",
    "# write the unique brand counts into a csv\n",
    "## convert to a df\n",
    "brand_count_df = unique_brands_counts.reset_index()\n",
    "\n",
    "## rename column names for clarity\n",
    "brand_count_df.columns = [\"Brand\", \"Count\"]\n",
    "\n",
    "## write to csv\n",
    "brand_count_df.to_csv(\"tv_brand_count.csv\", index = False)\n",
    "\n",
    "print(\"Frequency of available brands:\\n\", unique_brands_counts)\n"
   ]
  },
  {
   "cell_type": "markdown",
   "metadata": {},
   "source": [
    "### Method 2: Extracting Brand & Size"
   ]
  },
  {
   "cell_type": "code",
   "execution_count": 58,
   "metadata": {},
   "outputs": [
    {
     "name": "stdout",
     "output_type": "stream",
     "text": [
      "Available number of TV brands:  31\n",
      "Available number of TV sizes (inch):  16\n",
      "Available number of TV type:  3\n"
     ]
    }
   ],
   "source": [
    "# definine lists of available brands and size from kilimall website\n",
    "tv_brands = [\"vitron\", \"hisense\",\"tcl\", \"vision\", \"gld\", \"samsung\", \"amtec\", \"ctv\", \"skyworth\", \"syinix\",\"lg\", \"sony\",\"ailyons\", \"zeemr\", \"jenovox\", \"artel\", \"eoco\", \"euroken\", \"infinix\", \"sonar\", \"armco\", \"glaze\", \"dangbei\", \"haier\", \"amazon\", \"edison\", \"touyinger\", \"iconix\", \"golden tech\", \"premier\", \"skywave\"]\n",
    "print(\"Available number of TV brands: \", len(tv_brands))\n",
    "\n",
    "tv_sizes = [\"32\", \"43\", \"50\", \"55\", \"65\", \"75\", \"24\", \"40\", \"19\", \"26\",\"22\", \"85\", \"70\", \"17\", \"105\", \"90\"]\n",
    "print(\"Available number of TV sizes (inch): \", len(tv_sizes))\n",
    "\n",
    "tv_types = [\"smart\", \"digital\", \"semi-smart\"]\n",
    "print(\"Available number of TV type: \", len(tv_type))"
   ]
  },
  {
   "cell_type": "markdown",
   "metadata": {},
   "source": [
    "There are 31 different brands and 16 varied sizes across 3 television types"
   ]
  },
  {
   "cell_type": "code",
   "execution_count": 72,
   "metadata": {},
   "outputs": [],
   "source": [
    "# extract brand, size and type from \"clean_product_name\" using above lists\n",
    "\n",
    "# 1. functions to match brands\n",
    "def match_brand(product_name):\n",
    "    for brand in tv_brands:\n",
    "        if brand.lower() in product_name.lower():\n",
    "            return brand\n",
    "    return \"Unknown\"\n",
    "\n",
    "# 2. function to extract size by checking against available sizes list\n",
    "\n",
    "def extract_size(product_name):\n",
    "    for size in tv_sizes:\n",
    "        if str(size) in product_name:  # Check if the size number exists in the title as a string\n",
    "            return size\n",
    "    return None\n",
    "\n",
    "# 3. function to match TV type\n",
    "def match_tv_type(product_name):\n",
    "    for tv_type in tv_types:\n",
    "        if tv_type.lower() in product_name.lower():\n",
    "            return tv_type\n",
    "    return \"Unknown Type\""
   ]
  },
  {
   "cell_type": "code",
   "execution_count": 92,
   "metadata": {},
   "outputs": [
    {
     "data": {
      "text/html": [
       "<div>\n",
       "<style scoped>\n",
       "    .dataframe tbody tr th:only-of-type {\n",
       "        vertical-align: middle;\n",
       "    }\n",
       "\n",
       "    .dataframe tbody tr th {\n",
       "        vertical-align: top;\n",
       "    }\n",
       "\n",
       "    .dataframe thead th {\n",
       "        text-align: right;\n",
       "    }\n",
       "</style>\n",
       "<table border=\"1\" class=\"dataframe\">\n",
       "  <thead>\n",
       "    <tr style=\"text-align: right;\">\n",
       "      <th></th>\n",
       "      <th>product_name</th>\n",
       "      <th>product_reviews</th>\n",
       "      <th>product_price</th>\n",
       "      <th>clean_product_name</th>\n",
       "      <th>brand</th>\n",
       "      <th>size</th>\n",
       "      <th>tv_type</th>\n",
       "    </tr>\n",
       "  </thead>\n",
       "  <tbody>\n",
       "    <tr>\n",
       "      <th>0</th>\n",
       "      <td>Vitron 32 Inch Frameless Smart TV HD Netflix T...</td>\n",
       "      <td>(1347)</td>\n",
       "      <td>KSh 11,199</td>\n",
       "      <td>Vitron 32 Inch Frameless Smart TV HD Netflix T...</td>\n",
       "      <td>vitron</td>\n",
       "      <td>32</td>\n",
       "      <td>smart</td>\n",
       "    </tr>\n",
       "    <tr>\n",
       "      <th>1</th>\n",
       "      <td>Vitron 32 inch Frameless Television HTC 3218 L...</td>\n",
       "      <td>(710)</td>\n",
       "      <td>KSh 11,099</td>\n",
       "      <td>Vitron 32 inch Frameless Television HTC 3218 L...</td>\n",
       "      <td>vitron</td>\n",
       "      <td>32</td>\n",
       "      <td>digital</td>\n",
       "    </tr>\n",
       "    <tr>\n",
       "      <th>2</th>\n",
       "      <td>Vitron 43 inch Smart TV HTC 4388FS Android Tel...</td>\n",
       "      <td>(1142)</td>\n",
       "      <td>KSh 18,499</td>\n",
       "      <td>Vitron 43 inch Smart TV HTC 4388FS Android Tel...</td>\n",
       "      <td>vitron</td>\n",
       "      <td>43</td>\n",
       "      <td>smart</td>\n",
       "    </tr>\n",
       "    <tr>\n",
       "      <th>3</th>\n",
       "      <td>VITRON BLUETOOTH-ENABLED 32\" INCH HTC3200S,FRA...</td>\n",
       "      <td>(947)</td>\n",
       "      <td>KSh 13,978</td>\n",
       "      <td>VITRON BLUETOOTH-ENABLED 32 INCH HTC3200S,FRAM...</td>\n",
       "      <td>vitron</td>\n",
       "      <td>32</td>\n",
       "      <td>smart</td>\n",
       "    </tr>\n",
       "    <tr>\n",
       "      <th>4</th>\n",
       "      <td>VITRON 32\" Inch DIGITAL TELEVISION FRAMELESS H...</td>\n",
       "      <td>(243)</td>\n",
       "      <td>KSh 12,998</td>\n",
       "      <td>VITRON 32 Inch DIGITAL TELEVISION FRAMELESS HT...</td>\n",
       "      <td>vitron</td>\n",
       "      <td>32</td>\n",
       "      <td>digital</td>\n",
       "    </tr>\n",
       "  </tbody>\n",
       "</table>\n",
       "</div>"
      ],
      "text/plain": [
       "                                        product_name product_reviews  \\\n",
       "0  Vitron 32 Inch Frameless Smart TV HD Netflix T...          (1347)   \n",
       "1  Vitron 32 inch Frameless Television HTC 3218 L...           (710)   \n",
       "2  Vitron 43 inch Smart TV HTC 4388FS Android Tel...          (1142)   \n",
       "3  VITRON BLUETOOTH-ENABLED 32\" INCH HTC3200S,FRA...           (947)   \n",
       "4  VITRON 32\" Inch DIGITAL TELEVISION FRAMELESS H...           (243)   \n",
       "\n",
       "  product_price                                 clean_product_name   brand  \\\n",
       "0    KSh 11,199  Vitron 32 Inch Frameless Smart TV HD Netflix T...  vitron   \n",
       "1    KSh 11,099  Vitron 32 inch Frameless Television HTC 3218 L...  vitron   \n",
       "2    KSh 18,499  Vitron 43 inch Smart TV HTC 4388FS Android Tel...  vitron   \n",
       "3    KSh 13,978  VITRON BLUETOOTH-ENABLED 32 INCH HTC3200S,FRAM...  vitron   \n",
       "4    KSh 12,998  VITRON 32 Inch DIGITAL TELEVISION FRAMELESS HT...  vitron   \n",
       "\n",
       "  size  tv_type  \n",
       "0   32    smart  \n",
       "1   32  digital  \n",
       "2   43    smart  \n",
       "3   32    smart  \n",
       "4   32  digital  "
      ]
     },
     "execution_count": 92,
     "metadata": {},
     "output_type": "execute_result"
    }
   ],
   "source": [
    "# Apply the functions to the DataFrame\n",
    "\n",
    "tv_data_2['brand'] = tv_data_2['clean_product_name'].apply(match_brand)\n",
    "tv_data_2['size'] = tv_data_2['clean_product_name'].apply(extract_size)\n",
    "tv_data_2['tv_type'] = tv_data_2['clean_product_name'].apply(match_tv_type)\n",
    "tv_data_2.head()\n",
    "\n",
    "# convert the df to csv\n",
    "#tv_data_2.to_csv(\"tv_data_2.csv\", index=False)"
   ]
  },
  {
   "cell_type": "code",
   "execution_count": 87,
   "metadata": {},
   "outputs": [
    {
     "data": {
      "text/plain": [
       "(4239, 7)"
      ]
     },
     "execution_count": 87,
     "metadata": {},
     "output_type": "execute_result"
    }
   ],
   "source": [
    "# shape\n",
    "tv_data_2.shape"
   ]
  },
  {
   "cell_type": "code",
   "execution_count": 89,
   "metadata": {},
   "outputs": [
    {
     "name": "stdout",
     "output_type": "stream",
     "text": [
      "['vitron' 'vision' 'artel' 'eoco' 'Unknown' 'skyworth' 'tcl' 'hisense'\n",
      " 'amtec' 'syinix' 'ailyons' 'lg' 'euroken' 'gld' 'samsung' 'glaze'\n",
      " 'premier' 'sony' 'sonar' 'haier' 'iconix' 'infinix']\n",
      "Frequency of available brands:\n",
      " brand\n",
      "vitron      1249\n",
      "vision       950\n",
      "tcl          498\n",
      "hisense      461\n",
      "Unknown      352\n",
      "samsung      142\n",
      "skyworth     123\n",
      "gld          113\n",
      "amtec        106\n",
      "syinix        56\n",
      "lg            56\n",
      "glaze         37\n",
      "sony          30\n",
      "artel         15\n",
      "ailyons       14\n",
      "euroken       10\n",
      "eoco           7\n",
      "iconix         6\n",
      "premier        5\n",
      "haier          4\n",
      "sonar          3\n",
      "infinix        2\n",
      "Name: count, dtype: int64\n"
     ]
    }
   ],
   "source": [
    "# exploring clean dataframe\n",
    "unique_brands_1 = tv_data_2[\"brand\"].unique()\n",
    "print(unique_brands_1)\n",
    "\n",
    "#number of unique counts\n",
    "unique_brands_counts_1 = tv_data_2[\"brand\"].value_counts()\n",
    "\n",
    "# write the unique brand counts into a csv\n",
    "## convert to a df\n",
    "brand_count_df_1 = unique_brands_counts_1.reset_index()\n",
    "\n",
    "## rename column names for clarity\n",
    "brand_count_df_1.columns = [\"Brand\", \"Count\"]\n",
    "\n",
    "## write to csv\n",
    "brand_count_df_1.to_csv(\"tv_brand_count_1.csv\", index = False)\n",
    "\n",
    "print(\"Frequency of available brands:\\n\", unique_brands_counts_1)"
   ]
  },
  {
   "cell_type": "code",
   "execution_count": 93,
   "metadata": {},
   "outputs": [
    {
     "data": {
      "text/plain": [
       "np.int64(4239)"
      ]
     },
     "execution_count": 93,
     "metadata": {},
     "output_type": "execute_result"
    }
   ],
   "source": [
    "# find sum of tvs with matched brands\n",
    "count_sum = brand_count_df_1[\"Count\"].sum()\n",
    "count_sum"
   ]
  }
 ],
 "metadata": {
  "kernelspec": {
   "display_name": "env",
   "language": "python",
   "name": "python3"
  },
  "language_info": {
   "codemirror_mode": {
    "name": "ipython",
    "version": 3
   },
   "file_extension": ".py",
   "mimetype": "text/x-python",
   "name": "python",
   "nbconvert_exporter": "python",
   "pygments_lexer": "ipython3",
   "version": "3.11.5"
  }
 },
 "nbformat": 4,
 "nbformat_minor": 2
}
