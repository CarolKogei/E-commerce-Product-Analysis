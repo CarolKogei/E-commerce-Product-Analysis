{
 "cells": [
  {
   "cell_type": "markdown",
   "metadata": {},
   "source": [
    "## 1. Importing libraries"
   ]
  },
  {
   "cell_type": "code",
   "execution_count": 11,
   "metadata": {},
   "outputs": [],
   "source": [
    "import pandas as pd\n",
    "import numpy as np\n",
    "import re"
   ]
  },
  {
   "cell_type": "markdown",
   "metadata": {},
   "source": [
    "## 2. Exploratory Data Analysis"
   ]
  },
  {
   "cell_type": "markdown",
   "metadata": {},
   "source": [
    "I have two categories of cookers dataset:\n",
    "- Cooktops\n",
    "- Standing Cooker"
   ]
  },
  {
   "cell_type": "markdown",
   "metadata": {},
   "source": [
    "### Cooktops"
   ]
  },
  {
   "cell_type": "code",
   "execution_count": 4,
   "metadata": {},
   "outputs": [
    {
     "data": {
      "text/html": [
       "<div>\n",
       "<style scoped>\n",
       "    .dataframe tbody tr th:only-of-type {\n",
       "        vertical-align: middle;\n",
       "    }\n",
       "\n",
       "    .dataframe tbody tr th {\n",
       "        vertical-align: top;\n",
       "    }\n",
       "\n",
       "    .dataframe thead th {\n",
       "        text-align: right;\n",
       "    }\n",
       "</style>\n",
       "<table border=\"1\" class=\"dataframe\">\n",
       "  <thead>\n",
       "    <tr style=\"text-align: right;\">\n",
       "      <th></th>\n",
       "      <th>cooktop_name</th>\n",
       "      <th>cooktop_reviews</th>\n",
       "      <th>cooktop_price</th>\n",
       "    </tr>\n",
       "  </thead>\n",
       "  <tbody>\n",
       "    <tr>\n",
       "      <th>0</th>\n",
       "      <td>【HOT！!】AILYONS/LYONS GS014-4 Glass Top Infrare...</td>\n",
       "      <td>(659)</td>\n",
       "      <td>KSh 2,199</td>\n",
       "    </tr>\n",
       "    <tr>\n",
       "      <th>1</th>\n",
       "      <td>IPCONE 7102  Double Gas Cooker Auto lgnition D...</td>\n",
       "      <td>(209)</td>\n",
       "      <td>KSh 1,399</td>\n",
       "    </tr>\n",
       "    <tr>\n",
       "      <th>2</th>\n",
       "      <td>【HOT！】AILYONS/LYONS GS017 Gas Cooker Double Bu...</td>\n",
       "      <td>(655)</td>\n",
       "      <td>KSh 1,428</td>\n",
       "    </tr>\n",
       "    <tr>\n",
       "      <th>3</th>\n",
       "      <td>IPCONE 2 Gas Cooker 02  Glass Top Double Burne...</td>\n",
       "      <td>(64)</td>\n",
       "      <td>KSh 1,999</td>\n",
       "    </tr>\n",
       "    <tr>\n",
       "      <th>4</th>\n",
       "      <td>AILYONS GS014-1/GS005A-1 Glass Top Infrared Do...</td>\n",
       "      <td>(1131)</td>\n",
       "      <td>KSh 2,299</td>\n",
       "    </tr>\n",
       "  </tbody>\n",
       "</table>\n",
       "</div>"
      ],
      "text/plain": [
       "                                        cooktop_name cooktop_reviews  \\\n",
       "0  【HOT！!】AILYONS/LYONS GS014-4 Glass Top Infrare...           (659)   \n",
       "1  IPCONE 7102  Double Gas Cooker Auto lgnition D...           (209)   \n",
       "2  【HOT！】AILYONS/LYONS GS017 Gas Cooker Double Bu...           (655)   \n",
       "3  IPCONE 2 Gas Cooker 02  Glass Top Double Burne...            (64)   \n",
       "4  AILYONS GS014-1/GS005A-1 Glass Top Infrared Do...          (1131)   \n",
       "\n",
       "  cooktop_price  \n",
       "0     KSh 2,199  \n",
       "1     KSh 1,399  \n",
       "2     KSh 1,428  \n",
       "3     KSh 1,999  \n",
       "4     KSh 2,299  "
      ]
     },
     "execution_count": 4,
     "metadata": {},
     "output_type": "execute_result"
    }
   ],
   "source": [
    "# load the csv data\n",
    "cooktops_df = pd.read_csv('kilimall_cooktops_no_rating.csv')\n",
    "\n",
    "# preview the df\n",
    "cooktops_df.head()\n"
   ]
  },
  {
   "cell_type": "code",
   "execution_count": 9,
   "metadata": {},
   "outputs": [
    {
     "data": {
      "text/plain": [
       "(4869, 4)"
      ]
     },
     "execution_count": 9,
     "metadata": {},
     "output_type": "execute_result"
    }
   ],
   "source": [
    "# check df shape\n",
    "cooktops_df.shape"
   ]
  },
  {
   "cell_type": "markdown",
   "metadata": {},
   "source": [
    "The 'cooktop_name' column contains emojis, the code below performs cleaning usin the Regular Expresion python module (RE).\n",
    "\n",
    "- The regex pattern [^\\w\\s,.-] matches anything that is not a word character (\\w), whitespace (\\s), comma (,), period (.), or hyphen (-). This helps remove emojis and special characters while keeping alphanumeric characters and common punctuation."
   ]
  },
  {
   "cell_type": "code",
   "execution_count": 5,
   "metadata": {},
   "outputs": [
    {
     "data": {
      "text/html": [
       "<div>\n",
       "<style scoped>\n",
       "    .dataframe tbody tr th:only-of-type {\n",
       "        vertical-align: middle;\n",
       "    }\n",
       "\n",
       "    .dataframe tbody tr th {\n",
       "        vertical-align: top;\n",
       "    }\n",
       "\n",
       "    .dataframe thead th {\n",
       "        text-align: right;\n",
       "    }\n",
       "</style>\n",
       "<table border=\"1\" class=\"dataframe\">\n",
       "  <thead>\n",
       "    <tr style=\"text-align: right;\">\n",
       "      <th></th>\n",
       "      <th>cooktop_name</th>\n",
       "      <th>cooktop_reviews</th>\n",
       "      <th>cooktop_price</th>\n",
       "      <th>clean_cooktop_name</th>\n",
       "    </tr>\n",
       "  </thead>\n",
       "  <tbody>\n",
       "    <tr>\n",
       "      <th>0</th>\n",
       "      <td>【HOT！!】AILYONS/LYONS GS014-4 Glass Top Infrare...</td>\n",
       "      <td>(659)</td>\n",
       "      <td>KSh 2,199</td>\n",
       "      <td>HOTAILYONSLYONS GS014-4 Glass Top Infrared Dou...</td>\n",
       "    </tr>\n",
       "    <tr>\n",
       "      <th>1</th>\n",
       "      <td>IPCONE 7102  Double Gas Cooker Auto lgnition D...</td>\n",
       "      <td>(209)</td>\n",
       "      <td>KSh 1,399</td>\n",
       "      <td>IPCONE 7102  Double Gas Cooker Auto lgnition D...</td>\n",
       "    </tr>\n",
       "    <tr>\n",
       "      <th>2</th>\n",
       "      <td>【HOT！】AILYONS/LYONS GS017 Gas Cooker Double Bu...</td>\n",
       "      <td>(655)</td>\n",
       "      <td>KSh 1,428</td>\n",
       "      <td>HOTAILYONSLYONS GS017 Gas Cooker Double Burner...</td>\n",
       "    </tr>\n",
       "    <tr>\n",
       "      <th>3</th>\n",
       "      <td>IPCONE 2 Gas Cooker 02  Glass Top Double Burne...</td>\n",
       "      <td>(64)</td>\n",
       "      <td>KSh 1,999</td>\n",
       "      <td>IPCONE 2 Gas Cooker 02  Glass Top Double Burne...</td>\n",
       "    </tr>\n",
       "    <tr>\n",
       "      <th>4</th>\n",
       "      <td>AILYONS GS014-1/GS005A-1 Glass Top Infrared Do...</td>\n",
       "      <td>(1131)</td>\n",
       "      <td>KSh 2,299</td>\n",
       "      <td>AILYONS GS014-1GS005A-1 Glass Top Infrared Dou...</td>\n",
       "    </tr>\n",
       "  </tbody>\n",
       "</table>\n",
       "</div>"
      ],
      "text/plain": [
       "                                        cooktop_name cooktop_reviews  \\\n",
       "0  【HOT！!】AILYONS/LYONS GS014-4 Glass Top Infrare...           (659)   \n",
       "1  IPCONE 7102  Double Gas Cooker Auto lgnition D...           (209)   \n",
       "2  【HOT！】AILYONS/LYONS GS017 Gas Cooker Double Bu...           (655)   \n",
       "3  IPCONE 2 Gas Cooker 02  Glass Top Double Burne...            (64)   \n",
       "4  AILYONS GS014-1/GS005A-1 Glass Top Infrared Do...          (1131)   \n",
       "\n",
       "  cooktop_price                                 clean_cooktop_name  \n",
       "0     KSh 2,199  HOTAILYONSLYONS GS014-4 Glass Top Infrared Dou...  \n",
       "1     KSh 1,399  IPCONE 7102  Double Gas Cooker Auto lgnition D...  \n",
       "2     KSh 1,428  HOTAILYONSLYONS GS017 Gas Cooker Double Burner...  \n",
       "3     KSh 1,999  IPCONE 2 Gas Cooker 02  Glass Top Double Burne...  \n",
       "4     KSh 2,299  AILYONS GS014-1GS005A-1 Glass Top Infrared Dou...  "
      ]
     },
     "execution_count": 5,
     "metadata": {},
     "output_type": "execute_result"
    }
   ],
   "source": [
    "\n",
    "# Function to remove emojis and special characters\n",
    "def remove_emojis(text):\n",
    "    return re.sub(r'[^\\w\\s,.-]', '', text)\n",
    "\n",
    "# Apply the function to 'cooktop_name'\n",
    "cooktops_df['clean_cooktop_name'] = cooktops_df['cooktop_name'].apply(remove_emojis)\n",
    "\n",
    "# Save the 'clean_cooktop_name' column to a CSV file\n",
    "cooktops_df[['clean_cooktop_name']].to_csv('no_emojis_cooktop_name_column.csv', index=False)\n",
    "\n",
    "cooktops_df.head()\n"
   ]
  },
  {
   "cell_type": "code",
   "execution_count": 12,
   "metadata": {},
   "outputs": [
    {
     "data": {
      "text/html": [
       "<div>\n",
       "<style scoped>\n",
       "    .dataframe tbody tr th:only-of-type {\n",
       "        vertical-align: middle;\n",
       "    }\n",
       "\n",
       "    .dataframe tbody tr th {\n",
       "        vertical-align: top;\n",
       "    }\n",
       "\n",
       "    .dataframe thead th {\n",
       "        text-align: right;\n",
       "    }\n",
       "</style>\n",
       "<table border=\"1\" class=\"dataframe\">\n",
       "  <thead>\n",
       "    <tr style=\"text-align: right;\">\n",
       "      <th></th>\n",
       "      <th>cooktop_name</th>\n",
       "      <th>cooktop_reviews</th>\n",
       "      <th>cooktop_price</th>\n",
       "      <th>clean_cooktop_name</th>\n",
       "    </tr>\n",
       "  </thead>\n",
       "  <tbody>\n",
       "    <tr>\n",
       "      <th>count</th>\n",
       "      <td>4869</td>\n",
       "      <td>4869</td>\n",
       "      <td>4869</td>\n",
       "      <td>4869</td>\n",
       "    </tr>\n",
       "    <tr>\n",
       "      <th>unique</th>\n",
       "      <td>3254</td>\n",
       "      <td>64</td>\n",
       "      <td>1320</td>\n",
       "      <td>3246</td>\n",
       "    </tr>\n",
       "    <tr>\n",
       "      <th>top</th>\n",
       "      <td>Electric Cooker / Single Spiral Coil Hotplate</td>\n",
       "      <td>(0)</td>\n",
       "      <td>KSh 2,999</td>\n",
       "      <td>Electric Cooker  Single Spiral Coil Hotplate</td>\n",
       "    </tr>\n",
       "    <tr>\n",
       "      <th>freq</th>\n",
       "      <td>49</td>\n",
       "      <td>4408</td>\n",
       "      <td>118</td>\n",
       "      <td>49</td>\n",
       "    </tr>\n",
       "  </tbody>\n",
       "</table>\n",
       "</div>"
      ],
      "text/plain": [
       "                                         cooktop_name cooktop_reviews  \\\n",
       "count                                            4869            4869   \n",
       "unique                                           3254              64   \n",
       "top     Electric Cooker / Single Spiral Coil Hotplate             (0)   \n",
       "freq                                               49            4408   \n",
       "\n",
       "       cooktop_price                            clean_cooktop_name  \n",
       "count           4869                                          4869  \n",
       "unique          1320                                          3246  \n",
       "top        KSh 2,999  Electric Cooker  Single Spiral Coil Hotplate  \n",
       "freq             118                                            49  "
      ]
     },
     "execution_count": 12,
     "metadata": {},
     "output_type": "execute_result"
    }
   ],
   "source": [
    "# statistical description of the df\n",
    "cooktops_df.describe()"
   ]
  },
  {
   "cell_type": "markdown",
   "metadata": {},
   "source": [
    "- In the above statistics, most cooktops on the website has 0 reviews, 4408 out of the total 4896 products.\n",
    "- In pricing, the most frequent price was Ksh 2,999 that was repeated 118 times across the whole product list."
   ]
  },
  {
   "cell_type": "markdown",
   "metadata": {},
   "source": [
    "Check for duplicates"
   ]
  },
  {
   "cell_type": "code",
   "execution_count": 15,
   "metadata": {},
   "outputs": [
    {
     "name": "stdout",
     "output_type": "stream",
     "text": [
      "Number of duplicate rows: 492\n"
     ]
    }
   ],
   "source": [
    "# check for duplicates across all columns\n",
    "cooktop_duplicate_rows = cooktops_df[cooktops_df.duplicated()]\n",
    "#cooktop_duplicate_rows\n",
    "\n",
    "print(f'Number of duplicate rows: {cooktop_duplicate_rows.shape[0]}')\n"
   ]
  },
  {
   "cell_type": "code",
   "execution_count": 16,
   "metadata": {},
   "outputs": [],
   "source": [
    "# handling duplicates\n",
    "cooktop_no_dupes_df = cooktops_df.drop_duplicates(subset='clean_cooktop_name', keep='first')"
   ]
  },
  {
   "cell_type": "markdown",
   "metadata": {},
   "source": [
    "- The above code retains the the first occurrence of each row, indexed by 'clean_cooktop_name' column of the df."
   ]
  },
  {
   "cell_type": "code",
   "execution_count": 17,
   "metadata": {},
   "outputs": [
    {
     "name": "stdout",
     "output_type": "stream",
     "text": [
      "0\n"
     ]
    }
   ],
   "source": [
    "# recheck duplicates\n",
    "print(cooktop_no_dupes_df['clean_cooktop_name'].duplicated().sum())\n"
   ]
  },
  {
   "cell_type": "markdown",
   "metadata": {},
   "source": [
    "- The duplicates have been successfully handled, with the returned sum of duplicates as 0."
   ]
  },
  {
   "cell_type": "code",
   "execution_count": 18,
   "metadata": {},
   "outputs": [
    {
     "data": {
      "text/plain": [
       "(3246, 4)"
      ]
     },
     "execution_count": 18,
     "metadata": {},
     "output_type": "execute_result"
    }
   ],
   "source": [
    "#check the shape to confirm number of rows after removing duplicates\n",
    "cooktop_no_dupes_df.shape"
   ]
  },
  {
   "cell_type": "markdown",
   "metadata": {},
   "source": [
    "- There are 3246 rows down from 4869 rows before handling duplicates."
   ]
  },
  {
   "cell_type": "markdown",
   "metadata": {},
   "source": [
    "Create a list of available brands and types to help with creating additional columns in the df"
   ]
  },
  {
   "cell_type": "code",
   "execution_count": 19,
   "metadata": {},
   "outputs": [
    {
     "name": "stdout",
     "output_type": "stream",
     "text": [
      "Available number of cooktop brands from kilimall websites:  49\n",
      "There are 4 different types of cooktops \n"
     ]
    }
   ],
   "source": [
    "# list of available brands\n",
    "cooktop_brands = ['generic', 'nunix', 'ailyons', 'eurochef', 'rashnik', 'sokany', 'ramtons', 'eurochef', 'mara', 'premier', 'sweet home', 'edison', 'sayona', 'roch', 'silvercrest', 'hisense', 'ipcone', 'kitchen37', 'toseeu', 'amaze', 'microsoft lumia', 'fashion king', 'mika', 'rebune', 'annov', 'euroken', 'hotpoint', 'jamesport', 'jtc', 'jikokoa', 'lenovo', 'sterling', 'u7', 'vitron', 'fenghua', '& other fairies', 'ahitar', 'bosch', 'gt sonic', 'rebune', 'thl', 'vention', 'weiqin', 'kilimall', 'armco', 'aucma', 'alldocube', 'amazon', 'androidly']\n",
    "cooktop_types = ['gas', 'electric', 'electric and gas', 'not specified']\n",
    "\n",
    "print('Available number of cooktop brands from kilimall websites: ', len(cooktop_brands))\n",
    "print(f'There are {len(cooktop_type)} different types of cooktops ')\n"
   ]
  },
  {
   "cell_type": "code",
   "execution_count": 20,
   "metadata": {},
   "outputs": [],
   "source": [
    "# extract brand and type from \"clean_cooktop_name\" using above lists\n",
    "\n",
    "# 1. functions to match brands\n",
    "def match_brand(cooktop_name):\n",
    "    for brand in cooktop_brands:\n",
    "        if brand.lower() in cooktop_name.lower():\n",
    "            return brand\n",
    "    return 'Unknown'\n",
    "\n",
    "\n",
    "# 2. function to match cooktop type\n",
    "def match_type(cooktop_name):\n",
    "    for cooktop_type in cooktop_types:\n",
    "        if cooktop_type.lower() in cooktop_name.lower():\n",
    "            return cooktop_type\n",
    "    return 'Unknown'"
   ]
  },
  {
   "cell_type": "code",
   "execution_count": 22,
   "metadata": {},
   "outputs": [
    {
     "data": {
      "text/html": [
       "<div>\n",
       "<style scoped>\n",
       "    .dataframe tbody tr th:only-of-type {\n",
       "        vertical-align: middle;\n",
       "    }\n",
       "\n",
       "    .dataframe tbody tr th {\n",
       "        vertical-align: top;\n",
       "    }\n",
       "\n",
       "    .dataframe thead th {\n",
       "        text-align: right;\n",
       "    }\n",
       "</style>\n",
       "<table border=\"1\" class=\"dataframe\">\n",
       "  <thead>\n",
       "    <tr style=\"text-align: right;\">\n",
       "      <th></th>\n",
       "      <th>cooktop_name</th>\n",
       "      <th>cooktop_reviews</th>\n",
       "      <th>cooktop_price</th>\n",
       "      <th>clean_cooktop_name</th>\n",
       "      <th>brand</th>\n",
       "      <th>cooktop_type</th>\n",
       "    </tr>\n",
       "  </thead>\n",
       "  <tbody>\n",
       "    <tr>\n",
       "      <th>0</th>\n",
       "      <td>【HOT！!】AILYONS/LYONS GS014-4 Glass Top Infrare...</td>\n",
       "      <td>(659)</td>\n",
       "      <td>KSh 2,199</td>\n",
       "      <td>HOTAILYONSLYONS GS014-4 Glass Top Infrared Dou...</td>\n",
       "      <td>ailyons</td>\n",
       "      <td>gas</td>\n",
       "    </tr>\n",
       "    <tr>\n",
       "      <th>1</th>\n",
       "      <td>IPCONE 7102  Double Gas Cooker Auto lgnition D...</td>\n",
       "      <td>(209)</td>\n",
       "      <td>KSh 1,399</td>\n",
       "      <td>IPCONE 7102  Double Gas Cooker Auto lgnition D...</td>\n",
       "      <td>ipcone</td>\n",
       "      <td>gas</td>\n",
       "    </tr>\n",
       "    <tr>\n",
       "      <th>2</th>\n",
       "      <td>【HOT！】AILYONS/LYONS GS017 Gas Cooker Double Bu...</td>\n",
       "      <td>(655)</td>\n",
       "      <td>KSh 1,428</td>\n",
       "      <td>HOTAILYONSLYONS GS017 Gas Cooker Double Burner...</td>\n",
       "      <td>ailyons</td>\n",
       "      <td>gas</td>\n",
       "    </tr>\n",
       "    <tr>\n",
       "      <th>3</th>\n",
       "      <td>IPCONE 2 Gas Cooker 02  Glass Top Double Burne...</td>\n",
       "      <td>(64)</td>\n",
       "      <td>KSh 1,999</td>\n",
       "      <td>IPCONE 2 Gas Cooker 02  Glass Top Double Burne...</td>\n",
       "      <td>ipcone</td>\n",
       "      <td>gas</td>\n",
       "    </tr>\n",
       "    <tr>\n",
       "      <th>4</th>\n",
       "      <td>AILYONS GS014-1/GS005A-1 Glass Top Infrared Do...</td>\n",
       "      <td>(1131)</td>\n",
       "      <td>KSh 2,299</td>\n",
       "      <td>AILYONS GS014-1GS005A-1 Glass Top Infrared Dou...</td>\n",
       "      <td>ailyons</td>\n",
       "      <td>gas</td>\n",
       "    </tr>\n",
       "  </tbody>\n",
       "</table>\n",
       "</div>"
      ],
      "text/plain": [
       "                                        cooktop_name cooktop_reviews  \\\n",
       "0  【HOT！!】AILYONS/LYONS GS014-4 Glass Top Infrare...           (659)   \n",
       "1  IPCONE 7102  Double Gas Cooker Auto lgnition D...           (209)   \n",
       "2  【HOT！】AILYONS/LYONS GS017 Gas Cooker Double Bu...           (655)   \n",
       "3  IPCONE 2 Gas Cooker 02  Glass Top Double Burne...            (64)   \n",
       "4  AILYONS GS014-1/GS005A-1 Glass Top Infrared Do...          (1131)   \n",
       "\n",
       "  cooktop_price                                 clean_cooktop_name    brand  \\\n",
       "0     KSh 2,199  HOTAILYONSLYONS GS014-4 Glass Top Infrared Dou...  ailyons   \n",
       "1     KSh 1,399  IPCONE 7102  Double Gas Cooker Auto lgnition D...   ipcone   \n",
       "2     KSh 1,428  HOTAILYONSLYONS GS017 Gas Cooker Double Burner...  ailyons   \n",
       "3     KSh 1,999  IPCONE 2 Gas Cooker 02  Glass Top Double Burne...   ipcone   \n",
       "4     KSh 2,299  AILYONS GS014-1GS005A-1 Glass Top Infrared Dou...  ailyons   \n",
       "\n",
       "  cooktop_type  \n",
       "0          gas  \n",
       "1          gas  \n",
       "2          gas  \n",
       "3          gas  \n",
       "4          gas  "
      ]
     },
     "execution_count": 22,
     "metadata": {},
     "output_type": "execute_result"
    }
   ],
   "source": [
    "# Apply the functions to the DataFrame\n",
    "\n",
    "cooktop_no_dupes_df.loc[:, 'brand'] = cooktop_no_dupes_df['clean_cooktop_name'].apply(match_brand)\n",
    "cooktop_no_dupes_df.loc[:, 'cooktop_type'] = cooktop_no_dupes_df['clean_cooktop_name'].apply(match_type)\n",
    "cooktop_no_dupes_df.head()"
   ]
  },
  {
   "cell_type": "markdown",
   "metadata": {},
   "source": [
    "- The 'SettingWithCopyWarning' occurs in pandas when you try to modify a DataFrame that is a \"view\" of another DataFrame, rather than a copy. This can lead to unexpected results because changes made might not apply to the original DataFrame as intended. The warning is corrected by using '.loc' or creating a copy of the 'view' dataframe"
   ]
  },
  {
   "cell_type": "code",
   "execution_count": 23,
   "metadata": {},
   "outputs": [
    {
     "data": {
      "text/plain": [
       "(3246, 6)"
      ]
     },
     "execution_count": 23,
     "metadata": {},
     "output_type": "execute_result"
    }
   ],
   "source": [
    "# shape\n",
    "cooktop_no_dupes_df.shape"
   ]
  },
  {
   "cell_type": "code",
   "execution_count": 26,
   "metadata": {},
   "outputs": [
    {
     "name": "stdout",
     "output_type": "stream",
     "text": [
      "['ailyons' 'ipcone' 'nunix' 'eurochef' 'rashnik' 'jikokoa' 'Unknown'\n",
      " 'generic' 'sokany' 'ramtons' 'rebune' 'amaze' 'premier' 'sayona' 'roch'\n",
      " 'annov' 'mika' 'silvercrest' 'hotpoint' 'hisense' 'sterling']\n",
      "Frequency of available brands:\n",
      " brand\n",
      "Unknown        1114\n",
      "nunix           740\n",
      "eurochef        324\n",
      "ailyons         220\n",
      "rashnik         199\n",
      "sokany          136\n",
      "jikokoa         105\n",
      "generic          84\n",
      "ipcone           76\n",
      "amaze            76\n",
      "ramtons          64\n",
      "roch             43\n",
      "premier          24\n",
      "rebune           18\n",
      "sayona            7\n",
      "mika              6\n",
      "silvercrest       4\n",
      "annov             2\n",
      "hisense           2\n",
      "hotpoint          1\n",
      "sterling          1\n",
      "Name: count, dtype: int64\n"
     ]
    }
   ],
   "source": [
    "# exploring 'cooktop_no_dupes'\n",
    "\n",
    "cooktop_unique_brands = cooktop_no_dupes_df[\"brand\"].unique()\n",
    "print(cooktop_unique_brands)\n",
    "\n",
    "#number of unique counts\n",
    "cooktop_unique_brands_counts = cooktop_no_dupes_df[\"brand\"].value_counts()\n",
    "print(\"Frequency of available brands:\\n\", cooktop_unique_brands_counts)\n",
    "\n",
    "\n"
   ]
  },
  {
   "cell_type": "markdown",
   "metadata": {},
   "source": [
    "### Standing Cooker"
   ]
  },
  {
   "cell_type": "code",
   "execution_count": 27,
   "metadata": {},
   "outputs": [
    {
     "data": {
      "text/html": [
       "<div>\n",
       "<style scoped>\n",
       "    .dataframe tbody tr th:only-of-type {\n",
       "        vertical-align: middle;\n",
       "    }\n",
       "\n",
       "    .dataframe tbody tr th {\n",
       "        vertical-align: top;\n",
       "    }\n",
       "\n",
       "    .dataframe thead th {\n",
       "        text-align: right;\n",
       "    }\n",
       "</style>\n",
       "<table border=\"1\" class=\"dataframe\">\n",
       "  <thead>\n",
       "    <tr style=\"text-align: right;\">\n",
       "      <th></th>\n",
       "      <th>standing_cooker_name</th>\n",
       "      <th>standing_cooker_reviews</th>\n",
       "      <th>standing_cooker_price</th>\n",
       "    </tr>\n",
       "  </thead>\n",
       "  <tbody>\n",
       "    <tr>\n",
       "      <th>0</th>\n",
       "      <td>Volsmart 4 Burners VGS-580 Free Standing Gas C...</td>\n",
       "      <td>(241)</td>\n",
       "      <td>KSh 18,299</td>\n",
       "    </tr>\n",
       "    <tr>\n",
       "      <th>1</th>\n",
       "      <td>(Special Offer)Nunix  KZ-560-3G1E   Free Stand...</td>\n",
       "      <td>(223)</td>\n",
       "      <td>KSh 23,899</td>\n",
       "    </tr>\n",
       "    <tr>\n",
       "      <th>2</th>\n",
       "      <td>SPECIAL OFFER Eurochef EGT-55-3G1E-E 3 Gas Bur...</td>\n",
       "      <td>(39)</td>\n",
       "      <td>KSh 22,100</td>\n",
       "    </tr>\n",
       "    <tr>\n",
       "      <th>3</th>\n",
       "      <td>Nunix KZ-560-GO Free Standing 4 Gas Burners Ov...</td>\n",
       "      <td>(157)</td>\n",
       "      <td>KSh 19,799</td>\n",
       "    </tr>\n",
       "    <tr>\n",
       "      <th>4</th>\n",
       "      <td>Nunix 3 Gas Burners  1 Electric Standing Gas C...</td>\n",
       "      <td>(18)</td>\n",
       "      <td>KSh 9,299</td>\n",
       "    </tr>\n",
       "  </tbody>\n",
       "</table>\n",
       "</div>"
      ],
      "text/plain": [
       "                                standing_cooker_name standing_cooker_reviews  \\\n",
       "0  Volsmart 4 Burners VGS-580 Free Standing Gas C...                   (241)   \n",
       "1  (Special Offer)Nunix  KZ-560-3G1E   Free Stand...                   (223)   \n",
       "2  SPECIAL OFFER Eurochef EGT-55-3G1E-E 3 Gas Bur...                    (39)   \n",
       "3  Nunix KZ-560-GO Free Standing 4 Gas Burners Ov...                   (157)   \n",
       "4  Nunix 3 Gas Burners  1 Electric Standing Gas C...                    (18)   \n",
       "\n",
       "  standing_cooker_price  \n",
       "0            KSh 18,299  \n",
       "1            KSh 23,899  \n",
       "2            KSh 22,100  \n",
       "3            KSh 19,799  \n",
       "4             KSh 9,299  "
      ]
     },
     "execution_count": 27,
     "metadata": {},
     "output_type": "execute_result"
    }
   ],
   "source": [
    "# load the csv data\n",
    "standingcooker_df = pd.read_csv('kilimall_standing_cooker_no_rating.csv')\n",
    "\n",
    "# preview the df\n",
    "standingcooker_df.head()\n"
   ]
  },
  {
   "cell_type": "code",
   "execution_count": 28,
   "metadata": {},
   "outputs": [
    {
     "data": {
      "text/plain": [
       "(1151, 3)"
      ]
     },
     "execution_count": 28,
     "metadata": {},
     "output_type": "execute_result"
    }
   ],
   "source": [
    "# check df shape\n",
    "standingcooker_df.shape"
   ]
  },
  {
   "cell_type": "code",
   "execution_count": 29,
   "metadata": {},
   "outputs": [
    {
     "data": {
      "text/html": [
       "<div>\n",
       "<style scoped>\n",
       "    .dataframe tbody tr th:only-of-type {\n",
       "        vertical-align: middle;\n",
       "    }\n",
       "\n",
       "    .dataframe tbody tr th {\n",
       "        vertical-align: top;\n",
       "    }\n",
       "\n",
       "    .dataframe thead th {\n",
       "        text-align: right;\n",
       "    }\n",
       "</style>\n",
       "<table border=\"1\" class=\"dataframe\">\n",
       "  <thead>\n",
       "    <tr style=\"text-align: right;\">\n",
       "      <th></th>\n",
       "      <th>standing_cooker_name</th>\n",
       "      <th>standing_cooker_reviews</th>\n",
       "      <th>standing_cooker_price</th>\n",
       "      <th>clean_standingcooker_name</th>\n",
       "    </tr>\n",
       "  </thead>\n",
       "  <tbody>\n",
       "    <tr>\n",
       "      <th>0</th>\n",
       "      <td>Volsmart 4 Burners VGS-580 Free Standing Gas C...</td>\n",
       "      <td>(241)</td>\n",
       "      <td>KSh 18,299</td>\n",
       "      <td>Volsmart 4 Burners VGS-580 Free Standing Gas C...</td>\n",
       "    </tr>\n",
       "    <tr>\n",
       "      <th>1</th>\n",
       "      <td>(Special Offer)Nunix  KZ-560-3G1E   Free Stand...</td>\n",
       "      <td>(223)</td>\n",
       "      <td>KSh 23,899</td>\n",
       "      <td>Special OfferNunix  KZ-560-3G1E   Free Standin...</td>\n",
       "    </tr>\n",
       "    <tr>\n",
       "      <th>2</th>\n",
       "      <td>SPECIAL OFFER Eurochef EGT-55-3G1E-E 3 Gas Bur...</td>\n",
       "      <td>(39)</td>\n",
       "      <td>KSh 22,100</td>\n",
       "      <td>SPECIAL OFFER Eurochef EGT-55-3G1E-E 3 Gas Bur...</td>\n",
       "    </tr>\n",
       "    <tr>\n",
       "      <th>3</th>\n",
       "      <td>Nunix KZ-560-GO Free Standing 4 Gas Burners Ov...</td>\n",
       "      <td>(157)</td>\n",
       "      <td>KSh 19,799</td>\n",
       "      <td>Nunix KZ-560-GO Free Standing 4 Gas Burners Ov...</td>\n",
       "    </tr>\n",
       "    <tr>\n",
       "      <th>4</th>\n",
       "      <td>Nunix 3 Gas Burners  1 Electric Standing Gas C...</td>\n",
       "      <td>(18)</td>\n",
       "      <td>KSh 9,299</td>\n",
       "      <td>Nunix 3 Gas Burners  1 Electric Standing Gas C...</td>\n",
       "    </tr>\n",
       "  </tbody>\n",
       "</table>\n",
       "</div>"
      ],
      "text/plain": [
       "                                standing_cooker_name standing_cooker_reviews  \\\n",
       "0  Volsmart 4 Burners VGS-580 Free Standing Gas C...                   (241)   \n",
       "1  (Special Offer)Nunix  KZ-560-3G1E   Free Stand...                   (223)   \n",
       "2  SPECIAL OFFER Eurochef EGT-55-3G1E-E 3 Gas Bur...                    (39)   \n",
       "3  Nunix KZ-560-GO Free Standing 4 Gas Burners Ov...                   (157)   \n",
       "4  Nunix 3 Gas Burners  1 Electric Standing Gas C...                    (18)   \n",
       "\n",
       "  standing_cooker_price                          clean_standingcooker_name  \n",
       "0            KSh 18,299  Volsmart 4 Burners VGS-580 Free Standing Gas C...  \n",
       "1            KSh 23,899  Special OfferNunix  KZ-560-3G1E   Free Standin...  \n",
       "2            KSh 22,100  SPECIAL OFFER Eurochef EGT-55-3G1E-E 3 Gas Bur...  \n",
       "3            KSh 19,799  Nunix KZ-560-GO Free Standing 4 Gas Burners Ov...  \n",
       "4             KSh 9,299  Nunix 3 Gas Burners  1 Electric Standing Gas C...  "
      ]
     },
     "execution_count": 29,
     "metadata": {},
     "output_type": "execute_result"
    }
   ],
   "source": [
    "# Function to remove emojis and special characters\n",
    "def remove_emojis(text):\n",
    "    return re.sub(r'[^\\w\\s,.-]', '', text)\n",
    "\n",
    "# Apply the function to 'standing_cooker_name'\n",
    "standingcooker_df['clean_standingcooker_name'] = standingcooker_df['standing_cooker_name'].apply(remove_emojis)\n",
    "\n",
    "# Save the 'clean_standingcooker_name' column to a CSV file\n",
    "standingcooker_df[['clean_standingcooker_name']].to_csv('no_emojis_standingcooker_name_column.csv', index=False)\n",
    "\n",
    "standingcooker_df.head()"
   ]
  },
  {
   "cell_type": "code",
   "execution_count": 30,
   "metadata": {},
   "outputs": [
    {
     "data": {
      "text/html": [
       "<div>\n",
       "<style scoped>\n",
       "    .dataframe tbody tr th:only-of-type {\n",
       "        vertical-align: middle;\n",
       "    }\n",
       "\n",
       "    .dataframe tbody tr th {\n",
       "        vertical-align: top;\n",
       "    }\n",
       "\n",
       "    .dataframe thead th {\n",
       "        text-align: right;\n",
       "    }\n",
       "</style>\n",
       "<table border=\"1\" class=\"dataframe\">\n",
       "  <thead>\n",
       "    <tr style=\"text-align: right;\">\n",
       "      <th></th>\n",
       "      <th>standing_cooker_name</th>\n",
       "      <th>standing_cooker_reviews</th>\n",
       "      <th>standing_cooker_price</th>\n",
       "      <th>clean_standingcooker_name</th>\n",
       "    </tr>\n",
       "  </thead>\n",
       "  <tbody>\n",
       "    <tr>\n",
       "      <th>count</th>\n",
       "      <td>1151</td>\n",
       "      <td>1151</td>\n",
       "      <td>1151</td>\n",
       "      <td>1151</td>\n",
       "    </tr>\n",
       "    <tr>\n",
       "      <th>unique</th>\n",
       "      <td>955</td>\n",
       "      <td>17</td>\n",
       "      <td>629</td>\n",
       "      <td>953</td>\n",
       "    </tr>\n",
       "    <tr>\n",
       "      <th>top</th>\n",
       "      <td>Nunix Free Standing 4 Gas Burner Cooker With Oven</td>\n",
       "      <td>(0)</td>\n",
       "      <td>KSh 32,999</td>\n",
       "      <td>Nunix Free Standing 4 Gas Burner Cooker With Oven</td>\n",
       "    </tr>\n",
       "    <tr>\n",
       "      <th>freq</th>\n",
       "      <td>21</td>\n",
       "      <td>1097</td>\n",
       "      <td>31</td>\n",
       "      <td>21</td>\n",
       "    </tr>\n",
       "  </tbody>\n",
       "</table>\n",
       "</div>"
      ],
      "text/plain": [
       "                                     standing_cooker_name  \\\n",
       "count                                                1151   \n",
       "unique                                                955   \n",
       "top     Nunix Free Standing 4 Gas Burner Cooker With Oven   \n",
       "freq                                                   21   \n",
       "\n",
       "       standing_cooker_reviews standing_cooker_price  \\\n",
       "count                     1151                  1151   \n",
       "unique                      17                   629   \n",
       "top                        (0)            KSh 32,999   \n",
       "freq                      1097                    31   \n",
       "\n",
       "                                clean_standingcooker_name  \n",
       "count                                                1151  \n",
       "unique                                                953  \n",
       "top     Nunix Free Standing 4 Gas Burner Cooker With Oven  \n",
       "freq                                                   21  "
      ]
     },
     "execution_count": 30,
     "metadata": {},
     "output_type": "execute_result"
    }
   ],
   "source": [
    "# statistical description of the df\n",
    "standingcooker_df.describe()"
   ]
  },
  {
   "cell_type": "markdown",
   "metadata": {},
   "source": [
    "- In the above statistics, most cooktops on the website has 0 reviews, 1097 out of the total 1151 products.\n",
    "- In pricing, the most frequent price was Ksh 32,999 that was repeated 31 times across the whole product list."
   ]
  },
  {
   "cell_type": "markdown",
   "metadata": {},
   "source": [
    "Check for duplicates"
   ]
  },
  {
   "cell_type": "code",
   "execution_count": 31,
   "metadata": {},
   "outputs": [
    {
     "data": {
      "text/plain": [
       "0       False\n",
       "1       False\n",
       "2       False\n",
       "3       False\n",
       "4       False\n",
       "        ...  \n",
       "1146    False\n",
       "1147    False\n",
       "1148    False\n",
       "1149    False\n",
       "1150    False\n",
       "Length: 1151, dtype: bool"
      ]
     },
     "execution_count": 31,
     "metadata": {},
     "output_type": "execute_result"
    }
   ],
   "source": [
    "standingcooker_df.duplicated()"
   ]
  },
  {
   "cell_type": "code",
   "execution_count": 32,
   "metadata": {},
   "outputs": [
    {
     "name": "stdout",
     "output_type": "stream",
     "text": [
      "Number of duplicate rows: 55\n"
     ]
    }
   ],
   "source": [
    "# check for duplicates across all columns\n",
    "standingcooker_duplicate_rows = standingcooker_df[standingcooker_df.duplicated()]\n",
    "\n",
    "\n",
    "print(f'Number of duplicate rows: {standingcooker_duplicate_rows.shape[0]}')"
   ]
  },
  {
   "cell_type": "code",
   "execution_count": 33,
   "metadata": {},
   "outputs": [
    {
     "name": "stdout",
     "output_type": "stream",
     "text": [
      "0\n"
     ]
    }
   ],
   "source": [
    "# handling duplicates\n",
    "standingcooker_no_dupes_df = standingcooker_df.drop_duplicates(subset='clean_standingcooker_name', keep='first')\n",
    "\n",
    "# recheck duplicates\n",
    "print(standingcooker_no_dupes_df['clean_standingcooker_name'].duplicated().sum())"
   ]
  },
  {
   "cell_type": "markdown",
   "metadata": {},
   "source": [
    "- The duplicates have been successfully handled, with the returned sum of duplicates as 0."
   ]
  },
  {
   "cell_type": "code",
   "execution_count": 34,
   "metadata": {},
   "outputs": [
    {
     "data": {
      "text/plain": [
       "(953, 4)"
      ]
     },
     "execution_count": 34,
     "metadata": {},
     "output_type": "execute_result"
    }
   ],
   "source": [
    "#check the shape to confirm number of rows after removing duplicates\n",
    "standingcooker_no_dupes_df.shape"
   ]
  },
  {
   "cell_type": "markdown",
   "metadata": {},
   "source": [
    "- There are 953 rows down from 1151 rows before handling duplicates."
   ]
  },
  {
   "cell_type": "markdown",
   "metadata": {},
   "source": [
    "Create a list of available brands and types to help with creating additional columns in the df"
   ]
  },
  {
   "cell_type": "code",
   "execution_count": 40,
   "metadata": {},
   "outputs": [
    {
     "name": "stdout",
     "output_type": "stream",
     "text": [
      "Available number of standing cooker brands from kilimall website:  20\n",
      "There are 3 different types of cooktops \n",
      "There are 4 different oven capacities\n"
     ]
    }
   ],
   "source": [
    "# list of available brands\n",
    "standingcooker_brands = ['generic', 'nunix', 'mika', 'hotpoint', 'eurochef', 'ramtons', 'premier', 'volsmart', 'sayona', 'haier', 'hisense', 'roch', 'bruhm', 'euroken', 'ailyons', 'amaze', 'icecool', 'exzel', 'lg', 'rebune']\n",
    "standingcooker_types = ['3 gas+1 electric', '4 gas', '2 gas+2 electric']\n",
    "oven_capacities = ['40-60 l', 'without oven', '30-40 l', '10-20 l']\n",
    "\n",
    "print('Available number of standing cooker brands from kilimall website: ', len(standingcooker_brands))\n",
    "print(f'There are {len(standingcooker_types)} different types of cooktops ')\n",
    "print(f'There are {len(oven_capacities)} different oven capacities')"
   ]
  },
  {
   "cell_type": "code",
   "execution_count": 41,
   "metadata": {},
   "outputs": [],
   "source": [
    "# extract brand, type and oven capacity from \"clean_standingcooker_name\" using above lists\n",
    "\n",
    "# 1. function to match brands\n",
    "def match_standingcooker_brand(standing_cooker_name):\n",
    "    for brand in standingcooker_brands:\n",
    "        if brand.lower() in standing_cooker_name.lower():\n",
    "            return brand\n",
    "    return 'Unknown'\n",
    "\n",
    "\n",
    "# 2. function to match standing cooker type\n",
    "def match_standingcooker_type(standing_cooker_name):\n",
    "    for standingcooker_type in standingcooker_types:\n",
    "        if standingcooker_type.lower() in standing_cooker_name.lower():\n",
    "            return standingcooker_type\n",
    "    return 'Unknown'\n",
    "\n",
    "# 3. function to match oven capacity\n",
    "def match_capacity(standing_cooker_name):\n",
    "    for capacity in oven_capacities:\n",
    "        if capacity.lower() in standing_cooker_name.lower():\n",
    "            return capacity\n",
    "    return 'Unknown'"
   ]
  },
  {
   "cell_type": "code",
   "execution_count": 43,
   "metadata": {},
   "outputs": [],
   "source": [
    "# Apply the functions to the DataFrame\n",
    "\n",
    "standingcooker_no_dupes_df = standingcooker_no_dupes_df.copy()\n",
    "\n",
    "# Now safely modify the DataFrame\n",
    "standingcooker_no_dupes_df['brand'] = standingcooker_no_dupes_df['clean_standingcooker_name'].apply(match_standingcooker_brand)\n",
    "standingcooker_no_dupes_df['standing_cooker_type'] = standingcooker_no_dupes_df['clean_standingcooker_name'].apply(match_standingcooker_type)\n",
    "standingcooker_no_dupes_df['oven_capacity'] = standingcooker_no_dupes_df['clean_standingcooker_name'].apply(match_capacity)\n"
   ]
  },
  {
   "cell_type": "code",
   "execution_count": 45,
   "metadata": {},
   "outputs": [
    {
     "data": {
      "text/html": [
       "<div>\n",
       "<style scoped>\n",
       "    .dataframe tbody tr th:only-of-type {\n",
       "        vertical-align: middle;\n",
       "    }\n",
       "\n",
       "    .dataframe tbody tr th {\n",
       "        vertical-align: top;\n",
       "    }\n",
       "\n",
       "    .dataframe thead th {\n",
       "        text-align: right;\n",
       "    }\n",
       "</style>\n",
       "<table border=\"1\" class=\"dataframe\">\n",
       "  <thead>\n",
       "    <tr style=\"text-align: right;\">\n",
       "      <th></th>\n",
       "      <th>standing_cooker_name</th>\n",
       "      <th>standing_cooker_reviews</th>\n",
       "      <th>standing_cooker_price</th>\n",
       "      <th>clean_standingcooker_name</th>\n",
       "      <th>brand</th>\n",
       "      <th>standing_cooker_type</th>\n",
       "      <th>oven_capacity</th>\n",
       "    </tr>\n",
       "  </thead>\n",
       "  <tbody>\n",
       "    <tr>\n",
       "      <th>0</th>\n",
       "      <td>Volsmart 4 Burners VGS-580 Free Standing Gas C...</td>\n",
       "      <td>(241)</td>\n",
       "      <td>KSh 18,299</td>\n",
       "      <td>Volsmart 4 Burners VGS-580 Free Standing Gas C...</td>\n",
       "      <td>volsmart</td>\n",
       "      <td>4 gas</td>\n",
       "      <td>Unknown</td>\n",
       "    </tr>\n",
       "    <tr>\n",
       "      <th>1</th>\n",
       "      <td>(Special Offer)Nunix  KZ-560-3G1E   Free Stand...</td>\n",
       "      <td>(223)</td>\n",
       "      <td>KSh 23,899</td>\n",
       "      <td>Special OfferNunix  KZ-560-3G1E   Free Standin...</td>\n",
       "      <td>nunix</td>\n",
       "      <td>Unknown</td>\n",
       "      <td>Unknown</td>\n",
       "    </tr>\n",
       "    <tr>\n",
       "      <th>2</th>\n",
       "      <td>SPECIAL OFFER Eurochef EGT-55-3G1E-E 3 Gas Bur...</td>\n",
       "      <td>(39)</td>\n",
       "      <td>KSh 22,100</td>\n",
       "      <td>SPECIAL OFFER Eurochef EGT-55-3G1E-E 3 Gas Bur...</td>\n",
       "      <td>eurochef</td>\n",
       "      <td>Unknown</td>\n",
       "      <td>Unknown</td>\n",
       "    </tr>\n",
       "    <tr>\n",
       "      <th>3</th>\n",
       "      <td>Nunix KZ-560-GO Free Standing 4 Gas Burners Ov...</td>\n",
       "      <td>(157)</td>\n",
       "      <td>KSh 19,799</td>\n",
       "      <td>Nunix KZ-560-GO Free Standing 4 Gas Burners Ov...</td>\n",
       "      <td>nunix</td>\n",
       "      <td>4 gas</td>\n",
       "      <td>Unknown</td>\n",
       "    </tr>\n",
       "    <tr>\n",
       "      <th>4</th>\n",
       "      <td>Nunix 3 Gas Burners  1 Electric Standing Gas C...</td>\n",
       "      <td>(18)</td>\n",
       "      <td>KSh 9,299</td>\n",
       "      <td>Nunix 3 Gas Burners  1 Electric Standing Gas C...</td>\n",
       "      <td>nunix</td>\n",
       "      <td>Unknown</td>\n",
       "      <td>Unknown</td>\n",
       "    </tr>\n",
       "  </tbody>\n",
       "</table>\n",
       "</div>"
      ],
      "text/plain": [
       "                                standing_cooker_name standing_cooker_reviews  \\\n",
       "0  Volsmart 4 Burners VGS-580 Free Standing Gas C...                   (241)   \n",
       "1  (Special Offer)Nunix  KZ-560-3G1E   Free Stand...                   (223)   \n",
       "2  SPECIAL OFFER Eurochef EGT-55-3G1E-E 3 Gas Bur...                    (39)   \n",
       "3  Nunix KZ-560-GO Free Standing 4 Gas Burners Ov...                   (157)   \n",
       "4  Nunix 3 Gas Burners  1 Electric Standing Gas C...                    (18)   \n",
       "\n",
       "  standing_cooker_price                          clean_standingcooker_name  \\\n",
       "0            KSh 18,299  Volsmart 4 Burners VGS-580 Free Standing Gas C...   \n",
       "1            KSh 23,899  Special OfferNunix  KZ-560-3G1E   Free Standin...   \n",
       "2            KSh 22,100  SPECIAL OFFER Eurochef EGT-55-3G1E-E 3 Gas Bur...   \n",
       "3            KSh 19,799  Nunix KZ-560-GO Free Standing 4 Gas Burners Ov...   \n",
       "4             KSh 9,299  Nunix 3 Gas Burners  1 Electric Standing Gas C...   \n",
       "\n",
       "      brand standing_cooker_type oven_capacity  \n",
       "0  volsmart                4 gas       Unknown  \n",
       "1     nunix              Unknown       Unknown  \n",
       "2  eurochef              Unknown       Unknown  \n",
       "3     nunix                4 gas       Unknown  \n",
       "4     nunix              Unknown       Unknown  "
      ]
     },
     "execution_count": 45,
     "metadata": {},
     "output_type": "execute_result"
    }
   ],
   "source": [
    "standingcooker_no_dupes_df.head()"
   ]
  },
  {
   "cell_type": "code",
   "execution_count": 46,
   "metadata": {},
   "outputs": [
    {
     "data": {
      "text/html": [
       "<div>\n",
       "<style scoped>\n",
       "    .dataframe tbody tr th:only-of-type {\n",
       "        vertical-align: middle;\n",
       "    }\n",
       "\n",
       "    .dataframe tbody tr th {\n",
       "        vertical-align: top;\n",
       "    }\n",
       "\n",
       "    .dataframe thead th {\n",
       "        text-align: right;\n",
       "    }\n",
       "</style>\n",
       "<table border=\"1\" class=\"dataframe\">\n",
       "  <thead>\n",
       "    <tr style=\"text-align: right;\">\n",
       "      <th></th>\n",
       "      <th>standing_cooker_name</th>\n",
       "      <th>standing_cooker_reviews</th>\n",
       "      <th>standing_cooker_price</th>\n",
       "      <th>clean_standingcooker_name</th>\n",
       "      <th>brand</th>\n",
       "      <th>standing_cooker_type</th>\n",
       "      <th>oven_capacity</th>\n",
       "    </tr>\n",
       "  </thead>\n",
       "  <tbody>\n",
       "    <tr>\n",
       "      <th>count</th>\n",
       "      <td>953</td>\n",
       "      <td>953</td>\n",
       "      <td>953</td>\n",
       "      <td>953</td>\n",
       "      <td>953</td>\n",
       "      <td>953</td>\n",
       "      <td>953</td>\n",
       "    </tr>\n",
       "    <tr>\n",
       "      <th>unique</th>\n",
       "      <td>953</td>\n",
       "      <td>17</td>\n",
       "      <td>554</td>\n",
       "      <td>953</td>\n",
       "      <td>19</td>\n",
       "      <td>2</td>\n",
       "      <td>1</td>\n",
       "    </tr>\n",
       "    <tr>\n",
       "      <th>top</th>\n",
       "      <td>VON VAC6SV31UY - 60*55, 3 Gas+1 Electric Stand...</td>\n",
       "      <td>(0)</td>\n",
       "      <td>KSh 32,999</td>\n",
       "      <td>VON VAC6SV31UY - 6055, 3 Gas1 Electric Standin...</td>\n",
       "      <td>Unknown</td>\n",
       "      <td>Unknown</td>\n",
       "      <td>Unknown</td>\n",
       "    </tr>\n",
       "    <tr>\n",
       "      <th>freq</th>\n",
       "      <td>1</td>\n",
       "      <td>903</td>\n",
       "      <td>27</td>\n",
       "      <td>1</td>\n",
       "      <td>273</td>\n",
       "      <td>811</td>\n",
       "      <td>953</td>\n",
       "    </tr>\n",
       "  </tbody>\n",
       "</table>\n",
       "</div>"
      ],
      "text/plain": [
       "                                     standing_cooker_name  \\\n",
       "count                                                 953   \n",
       "unique                                                953   \n",
       "top     VON VAC6SV31UY - 60*55, 3 Gas+1 Electric Stand...   \n",
       "freq                                                    1   \n",
       "\n",
       "       standing_cooker_reviews standing_cooker_price  \\\n",
       "count                      953                   953   \n",
       "unique                      17                   554   \n",
       "top                        (0)            KSh 32,999   \n",
       "freq                       903                    27   \n",
       "\n",
       "                                clean_standingcooker_name    brand  \\\n",
       "count                                                 953      953   \n",
       "unique                                                953       19   \n",
       "top     VON VAC6SV31UY - 6055, 3 Gas1 Electric Standin...  Unknown   \n",
       "freq                                                    1      273   \n",
       "\n",
       "       standing_cooker_type oven_capacity  \n",
       "count                   953           953  \n",
       "unique                    2             1  \n",
       "top                 Unknown       Unknown  \n",
       "freq                    811           953  "
      ]
     },
     "execution_count": 46,
     "metadata": {},
     "output_type": "execute_result"
    }
   ],
   "source": [
    "standingcooker_no_dupes_df.describe()"
   ]
  },
  {
   "cell_type": "code",
   "execution_count": 47,
   "metadata": {},
   "outputs": [
    {
     "name": "stdout",
     "output_type": "stream",
     "text": [
      "['volsmart' 'nunix' 'eurochef' 'sayona' 'mika' 'premier' 'Unknown'\n",
      " 'ramtons' 'hisense' 'bruhm' 'haier' 'hotpoint' 'roch' 'euroken' 'amaze'\n",
      " 'rebune' 'exzel' 'ailyons' 'generic']\n",
      "Frequency of available brands:\n",
      " brand\n",
      "Unknown     273\n",
      "nunix       199\n",
      "mika        122\n",
      "eurochef     76\n",
      "volsmart     58\n",
      "ramtons      58\n",
      "premier      35\n",
      "sayona       25\n",
      "roch         19\n",
      "haier        18\n",
      "amaze        17\n",
      "generic      13\n",
      "hisense      11\n",
      "euroken       9\n",
      "bruhm         6\n",
      "hotpoint      5\n",
      "exzel         4\n",
      "ailyons       4\n",
      "rebune        1\n",
      "Name: count, dtype: int64\n"
     ]
    }
   ],
   "source": [
    "\n",
    "standingcooker_unique_brands = standingcooker_no_dupes_df[\"brand\"].unique()\n",
    "print(standingcooker_unique_brands)\n",
    "\n",
    "#number of unique counts\n",
    "standingcooker_unique_brands_counts = standingcooker_no_dupes_df[\"brand\"].value_counts()\n",
    "print(\"Frequency of available brands:\\n\", standingcooker_unique_brands_counts)"
   ]
  }
 ],
 "metadata": {
  "kernelspec": {
   "display_name": "env",
   "language": "python",
   "name": "python3"
  },
  "language_info": {
   "codemirror_mode": {
    "name": "ipython",
    "version": 3
   },
   "file_extension": ".py",
   "mimetype": "text/x-python",
   "name": "python",
   "nbconvert_exporter": "python",
   "pygments_lexer": "ipython3",
   "version": "3.11.5"
  }
 },
 "nbformat": 4,
 "nbformat_minor": 2
}
