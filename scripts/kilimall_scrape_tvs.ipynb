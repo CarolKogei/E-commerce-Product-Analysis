{
 "cells": [
  {
   "cell_type": "markdown",
   "metadata": {},
   "source": [
    "## Scraping TVs Data from Kilimall"
   ]
  },
  {
   "cell_type": "markdown",
   "metadata": {},
   "source": [
    "### 1. Importing Libraries"
   ]
  },
  {
   "cell_type": "code",
   "execution_count": 1,
   "metadata": {},
   "outputs": [],
   "source": [
    "import time\n",
    "import requests\n",
    "from bs4 import BeautifulSoup\n",
    "import pandas as pd"
   ]
  },
  {
   "cell_type": "markdown",
   "metadata": {},
   "source": [
    "### 2. Describing the base url and user agent variables"
   ]
  },
  {
   "cell_type": "code",
   "execution_count": 2,
   "metadata": {},
   "outputs": [],
   "source": [
    "# setting the base url & user agent\n",
    "baseurl = \"https://www.kilimall.co.ke/\"\n",
    "headers = {'User-Agent' : 'Mozilla/5.0 (Windows NT 6.1; WOW64) AppleWebKit/537.36 (KHTML, like Gecko) Chrome/126.0.6439.0 AOL/9.7 AOLBuild/4343.4043.US Safari/537.36'} "
   ]
  },
  {
   "cell_type": "markdown",
   "metadata": {},
   "source": [
    "### 3. A loop that iterates through the website, scrapes data"
   ]
  },
  {
   "cell_type": "code",
   "execution_count": 5,
   "metadata": {},
   "outputs": [
    {
     "name": "stdout",
     "output_type": "stream",
     "text": [
      "4095\n"
     ]
    }
   ],
   "source": [
    "# getting data with product link\n",
    "tv_links = []\n",
    "\n",
    "for x in range(1,119):\n",
    "    r = requests.get(f\"https://www.kilimall.co.ke/category/televisions?backCid=5406&form=category&source=category|allCategory|televisions&page={x}\", headers=headers)\n",
    "    soup = BeautifulSoup(r.content, \"html.parser\")\n",
    "    television_list = soup.find_all(\"div\", class_ = \"product-item\")\n",
    "\n",
    "    for television in television_list:\n",
    "        for link in television.find_all(\"a\", href = True):\n",
    "            tv_links.append(\"https://www.kilimall.co.ke\" + link[\"href\"])\n",
    "#time.sleep(2) # Pause for 2 seconds between requests\n",
    "\n",
    "print(len(tv_links)) "
   ]
  },
  {
   "cell_type": "code",
   "execution_count": 6,
   "metadata": {},
   "outputs": [
    {
     "name": "stdout",
     "output_type": "stream",
     "text": [
      "saving:1\n",
      "saving:2\n",
      "saving:3\n",
      "saving:4\n",
      "saving:5\n",
      "saving:6\n",
      "saving:7\n",
      "saving:8\n",
      "saving:9\n",
      "saving:10\n",
      "saving:11\n",
      "saving:12\n",
      "saving:13\n",
      "saving:14\n",
      "saving:15\n",
      "saving:16\n",
      "saving:17\n",
      "saving:18\n",
      "saving:19\n",
      "saving:20\n",
      "saving:21\n",
      "saving:22\n",
      "saving:23\n",
      "saving:24\n",
      "saving:25\n",
      "saving:26\n",
      "saving:27\n",
      "saving:28\n",
      "saving:29\n",
      "saving:30\n",
      "saving:31\n",
      "saving:32\n",
      "saving:33\n",
      "saving:34\n",
      "saving:35\n",
      "saving:36\n",
      "saving:37\n",
      "saving:38\n",
      "saving:39\n",
      "saving:40\n",
      "saving:41\n",
      "saving:42\n",
      "saving:43\n",
      "saving:44\n",
      "saving:45\n",
      "saving:46\n",
      "saving:47\n",
      "saving:48\n",
      "saving:49\n",
      "saving:50\n",
      "saving:51\n",
      "saving:52\n",
      "saving:53\n",
      "saving:54\n",
      "saving:55\n",
      "saving:56\n",
      "saving:57\n",
      "saving:58\n",
      "saving:59\n",
      "saving:60\n",
      "saving:61\n",
      "saving:62\n",
      "saving:63\n",
      "saving:64\n",
      "saving:65\n",
      "saving:66\n",
      "saving:67\n",
      "saving:68\n",
      "saving:69\n",
      "saving:70\n",
      "saving:71\n",
      "saving:72\n",
      "saving:73\n",
      "saving:74\n",
      "saving:75\n",
      "saving:76\n",
      "saving:77\n",
      "saving:78\n",
      "saving:79\n",
      "saving:80\n",
      "saving:81\n",
      "saving:82\n",
      "saving:83\n",
      "saving:84\n",
      "saving:85\n",
      "saving:86\n",
      "saving:87\n",
      "saving:88\n",
      "saving:89\n",
      "saving:90\n",
      "saving:91\n",
      "saving:92\n",
      "saving:93\n",
      "saving:94\n",
      "saving:95\n",
      "saving:96\n",
      "saving:97\n",
      "saving:98\n",
      "saving:99\n",
      "saving:100\n",
      "saving:101\n",
      "saving:102\n",
      "saving:103\n",
      "saving:104\n",
      "saving:105\n",
      "saving:106\n",
      "saving:107\n",
      "saving:108\n",
      "saving:109\n",
      "saving:110\n",
      "saving:111\n",
      "saving:112\n",
      "saving:113\n",
      "saving:114\n",
      "saving:115\n",
      "saving:116\n",
      "saving:117\n",
      "saving:118\n",
      "4095\n"
     ]
    }
   ],
   "source": [
    "tv_list = []\n",
    "for x in range(1,119):\n",
    "    print(\"saving:\" + str(x))\n",
    "    r = requests.get(f\"https://www.kilimall.co.ke/category/televisions?backCid=5406&form=category&source=category|allCategory|televisions&page={x}\", headers=headers)\n",
    "    soup = BeautifulSoup(r.content, \"html.parser\")\n",
    "    television_list = soup.find_all(\"div\", class_ = \"info-box\")\n",
    "\n",
    "    for item in television_list:\n",
    "        product_name = item.find(\"p\", class_ = \"product-title\").text.strip()\n",
    "        product_price = item.find(\"div\", class_ = \"product-price\").text.strip()\n",
    "        product_reviews = item.find(\"span\", class_ = \"reviews\").text.strip()\n",
    "        # define a dictionary\n",
    "        tvs_dict = {\n",
    "            \"product_name\": product_name,\n",
    "            \"product_reviews\": product_reviews,\n",
    "            \"product_price\": product_price,\n",
    "            }\n",
    "        tv_list.append(tvs_dict)\n",
    "\n",
    "#time.sleep(2) # Pause for 2 seconds between requests\n",
    "\n",
    "print(len(tv_list))"
   ]
  },
  {
   "cell_type": "code",
   "execution_count": 7,
   "metadata": {},
   "outputs": [
    {
     "data": {
      "text/html": [
       "<div>\n",
       "<style scoped>\n",
       "    .dataframe tbody tr th:only-of-type {\n",
       "        vertical-align: middle;\n",
       "    }\n",
       "\n",
       "    .dataframe tbody tr th {\n",
       "        vertical-align: top;\n",
       "    }\n",
       "\n",
       "    .dataframe thead th {\n",
       "        text-align: right;\n",
       "    }\n",
       "</style>\n",
       "<table border=\"1\" class=\"dataframe\">\n",
       "  <thead>\n",
       "    <tr style=\"text-align: right;\">\n",
       "      <th></th>\n",
       "      <th>product_name</th>\n",
       "      <th>product_reviews</th>\n",
       "      <th>product_price</th>\n",
       "      <th>product_link</th>\n",
       "    </tr>\n",
       "  </thead>\n",
       "  <tbody>\n",
       "    <tr>\n",
       "      <th>0</th>\n",
       "      <td>Vitron 32 Inch Frameless Smart TV HD Netflix T...</td>\n",
       "      <td>(1423)</td>\n",
       "      <td>KSh 10,999</td>\n",
       "      <td>https://www.kilimall.co.ke/listing/2517665-vit...</td>\n",
       "    </tr>\n",
       "    <tr>\n",
       "      <th>1</th>\n",
       "      <td>Vitron 43 inch Smart TV HTC 4388FS Android Tel...</td>\n",
       "      <td>(1200)</td>\n",
       "      <td>KSh 18,999</td>\n",
       "      <td>https://www.kilimall.co.ke/listing/2325142-vit...</td>\n",
       "    </tr>\n",
       "    <tr>\n",
       "      <th>2</th>\n",
       "      <td>VITRON BLUETOOTH-ENABLED 32\" INCH HTC3200S,FRA...</td>\n",
       "      <td>(1005)</td>\n",
       "      <td>KSh 13,978</td>\n",
       "      <td>https://www.kilimall.co.ke/listing/2519402-vit...</td>\n",
       "    </tr>\n",
       "    <tr>\n",
       "      <th>3</th>\n",
       "      <td>VITRON 32\" Inch DIGITAL TELEVISION FRAMELESS H...</td>\n",
       "      <td>(248)</td>\n",
       "      <td>KSh 12,998</td>\n",
       "      <td>https://www.kilimall.co.ke/listing/2055284-vit...</td>\n",
       "    </tr>\n",
       "    <tr>\n",
       "      <th>4</th>\n",
       "      <td>GLD 32 Inch Frameless Smart Android TV（G3200R1...</td>\n",
       "      <td>(366)</td>\n",
       "      <td>KSh 11,999</td>\n",
       "      <td>https://www.kilimall.co.ke/listing/2384332-gld...</td>\n",
       "    </tr>\n",
       "  </tbody>\n",
       "</table>\n",
       "</div>"
      ],
      "text/plain": [
       "                                        product_name product_reviews  \\\n",
       "0  Vitron 32 Inch Frameless Smart TV HD Netflix T...          (1423)   \n",
       "1  Vitron 43 inch Smart TV HTC 4388FS Android Tel...          (1200)   \n",
       "2  VITRON BLUETOOTH-ENABLED 32\" INCH HTC3200S,FRA...          (1005)   \n",
       "3  VITRON 32\" Inch DIGITAL TELEVISION FRAMELESS H...           (248)   \n",
       "4  GLD 32 Inch Frameless Smart Android TV（G3200R1...           (366)   \n",
       "\n",
       "  product_price                                       product_link  \n",
       "0    KSh 10,999  https://www.kilimall.co.ke/listing/2517665-vit...  \n",
       "1    KSh 18,999  https://www.kilimall.co.ke/listing/2325142-vit...  \n",
       "2    KSh 13,978  https://www.kilimall.co.ke/listing/2519402-vit...  \n",
       "3    KSh 12,998  https://www.kilimall.co.ke/listing/2055284-vit...  \n",
       "4    KSh 11,999  https://www.kilimall.co.ke/listing/2384332-gld...  "
      ]
     },
     "execution_count": 7,
     "metadata": {},
     "output_type": "execute_result"
    }
   ],
   "source": [
    "# Convert tv_list into a DataFrame\n",
    "tv_df = pd.DataFrame(tv_list)\n",
    "\n",
    "# Append tv_links as a new column\n",
    "tv_df[\"product_link\"] = tv_links\n",
    "\n",
    "tv_df.head()"
   ]
  },
  {
   "cell_type": "code",
   "execution_count": 9,
   "metadata": {},
   "outputs": [],
   "source": [
    "# save as csv\n",
    "tv_df.to_csv(r\"..\\data\\scraped\\kilimall_tvs.csv\", index = False, encoding = \"utf-8\")"
   ]
  },
  {
   "cell_type": "markdown",
   "metadata": {},
   "source": [
    "__Comments__\n",
    "- Retrieving the rating and number of reviews directly from individual product links was not feasible because the HTML tags consistently output all products as having a 5-star rating with 0 customer reviews.\n",
    "- This output conflicts with the actual information visible on the webpage, indicating a possible discrepancy between the HTML data and the rendered content. This might be due to the website using dynamic content (e.g., JavaScript) that is not fully captured during scraping."
   ]
  }
 ],
 "metadata": {
  "kernelspec": {
   "display_name": "env",
   "language": "python",
   "name": "python3"
  },
  "language_info": {
   "codemirror_mode": {
    "name": "ipython",
    "version": 3
   },
   "file_extension": ".py",
   "mimetype": "text/x-python",
   "name": "python",
   "nbconvert_exporter": "python",
   "pygments_lexer": "ipython3",
   "version": "3.11.5"
  }
 },
 "nbformat": 4,
 "nbformat_minor": 2
}
