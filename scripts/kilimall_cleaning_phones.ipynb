{
 "cells": [
  {
   "cell_type": "code",
   "execution_count": 1,
   "metadata": {},
   "outputs": [],
   "source": [
    "import pandas as pd\n",
    "import re"
   ]
  },
  {
   "cell_type": "code",
   "execution_count": 2,
   "metadata": {},
   "outputs": [],
   "source": [
    "dataframe = pd.read_csv(r\"C:\\Users\\Vivian.Obino1\\Desktop\\e-commerce analysis\\data\\scraped\\kilimall_scraped_phones.csv\")"
   ]
  },
  {
   "cell_type": "code",
   "execution_count": 3,
   "metadata": {},
   "outputs": [
    {
     "name": "stdout",
     "output_type": "stream",
     "text": [
      "                                            phones_name phones_reviews  \\\n",
      "0     Refurbished OPPO F11 A9 Smart Phone 128GB+6GB ...           (18)   \n",
      "1     Itel S23 Plus 128GB + 8(4+4)GB RAM 6.78'' Big ...          (165)   \n",
      "2     XIAOMI Redmi 14C 128GB Storage Upto 8(4+4)GB R...          (149)   \n",
      "3     New Arrival TECNO POP 9 128GB + 6(3+3)GB 4.5G ...           (87)   \n",
      "4     Itel A70 128GB+8(3+5)GB RAM 6.6\" Screen  4G Ne...          (578)   \n",
      "...                                                 ...            ...   \n",
      "5359  Share this product\\n\\n\\nVILLAON V20 SE 5.0\" 4G...            (0)   \n",
      "5360  Share this product\\n\\n\\nVILLAON V20 SE 5.0\" 4G...            (0)   \n",
      "5361  Share this product\\n\\n\\nVILLAON V20 SE 5.0\" 4G...            (0)   \n",
      "5362                                  Iphone 11 pro max            (0)   \n",
      "5363  XIAOMI Redmi Note 13 6.67\" 8GB RAM/256 GB ROM ...            (0)   \n",
      "\n",
      "     phones_price  \n",
      "0       KSh 7,499  \n",
      "1      KSh 13,599  \n",
      "2      KSh 12,910  \n",
      "3      KSh 11,499  \n",
      "4       KSh 9,799  \n",
      "...           ...  \n",
      "5359    KSh 4,999  \n",
      "5360    KSh 4,999  \n",
      "5361    KSh 4,999  \n",
      "5362   KSh 40,000  \n",
      "5363   KSh 26,000  \n",
      "\n",
      "[5364 rows x 3 columns]\n"
     ]
    }
   ],
   "source": [
    "print(dataframe)"
   ]
  },
  {
   "cell_type": "code",
   "execution_count": 4,
   "metadata": {},
   "outputs": [
    {
     "name": "stdout",
     "output_type": "stream",
     "text": [
      "                                            phones_name phones_reviews  \\\n",
      "0     Refurbished OPPO F11 A9 Smart Phone 128GB+6GB ...           (18)   \n",
      "1     Itel S23 Plus 128GB + 8(4+4)GB RAM 6.78'' Big ...          (165)   \n",
      "2     XIAOMI Redmi 14C 128GB Storage Upto 8(4+4)GB R...          (149)   \n",
      "3     New Arrival TECNO POP 9 128GB + 6(3+3)GB 4.5G ...           (87)   \n",
      "4     Itel A70 128GB+8(3+5)GB RAM 6.6\" Screen  4G Ne...          (578)   \n",
      "...                                                 ...            ...   \n",
      "5359  Share this product\\n\\n\\nVILLAON V20 SE 5.0\" 4G...            (0)   \n",
      "5360  Share this product\\n\\n\\nVILLAON V20 SE 5.0\" 4G...            (0)   \n",
      "5361  Share this product\\n\\n\\nVILLAON V20 SE 5.0\" 4G...            (0)   \n",
      "5362                                  Iphone 11 pro max            (0)   \n",
      "5363  XIAOMI Redmi Note 13 6.67\" 8GB RAM/256 GB ROM ...            (0)   \n",
      "\n",
      "     phones_price  \n",
      "0       KSh 7,499  \n",
      "1      KSh 13,599  \n",
      "2      KSh 12,910  \n",
      "3      KSh 11,499  \n",
      "4       KSh 9,799  \n",
      "...           ...  \n",
      "5359    KSh 4,999  \n",
      "5360    KSh 4,999  \n",
      "5361    KSh 4,999  \n",
      "5362   KSh 40,000  \n",
      "5363   KSh 26,000  \n",
      "\n",
      "[5364 rows x 3 columns]\n"
     ]
    }
   ],
   "source": [
    "dataframe_cleaned = dataframe.drop_duplicates()\n",
    "print(dataframe)\n"
   ]
  },
  {
   "cell_type": "code",
   "execution_count": 5,
   "metadata": {},
   "outputs": [
    {
     "data": {
      "text/html": [
       "<div>\n",
       "<style scoped>\n",
       "    .dataframe tbody tr th:only-of-type {\n",
       "        vertical-align: middle;\n",
       "    }\n",
       "\n",
       "    .dataframe tbody tr th {\n",
       "        vertical-align: top;\n",
       "    }\n",
       "\n",
       "    .dataframe thead th {\n",
       "        text-align: right;\n",
       "    }\n",
       "</style>\n",
       "<table border=\"1\" class=\"dataframe\">\n",
       "  <thead>\n",
       "    <tr style=\"text-align: right;\">\n",
       "      <th></th>\n",
       "      <th>phones_name</th>\n",
       "      <th>phones_reviews</th>\n",
       "      <th>phones_price</th>\n",
       "    </tr>\n",
       "  </thead>\n",
       "  <tbody>\n",
       "    <tr>\n",
       "      <th>0</th>\n",
       "      <td>Refurbished OPPO F11 A9 Smart Phone 128GB+6GB ...</td>\n",
       "      <td>(18)</td>\n",
       "      <td>7,499</td>\n",
       "    </tr>\n",
       "    <tr>\n",
       "      <th>1</th>\n",
       "      <td>Itel S23 Plus 128GB + 8(4+4)GB RAM 6.78'' Big ...</td>\n",
       "      <td>(165)</td>\n",
       "      <td>13,599</td>\n",
       "    </tr>\n",
       "    <tr>\n",
       "      <th>2</th>\n",
       "      <td>XIAOMI Redmi 14C 128GB Storage Upto 8(4+4)GB R...</td>\n",
       "      <td>(149)</td>\n",
       "      <td>12,910</td>\n",
       "    </tr>\n",
       "    <tr>\n",
       "      <th>3</th>\n",
       "      <td>New Arrival TECNO POP 9 128GB + 6(3+3)GB 4.5G ...</td>\n",
       "      <td>(87)</td>\n",
       "      <td>11,499</td>\n",
       "    </tr>\n",
       "    <tr>\n",
       "      <th>4</th>\n",
       "      <td>Itel A70 128GB+8(3+5)GB RAM 6.6\" Screen  4G Ne...</td>\n",
       "      <td>(578)</td>\n",
       "      <td>9,799</td>\n",
       "    </tr>\n",
       "    <tr>\n",
       "      <th>...</th>\n",
       "      <td>...</td>\n",
       "      <td>...</td>\n",
       "      <td>...</td>\n",
       "    </tr>\n",
       "    <tr>\n",
       "      <th>5359</th>\n",
       "      <td>Share this product\\n\\n\\nVILLAON V20 SE 5.0\" 4G...</td>\n",
       "      <td>(0)</td>\n",
       "      <td>4,999</td>\n",
       "    </tr>\n",
       "    <tr>\n",
       "      <th>5360</th>\n",
       "      <td>Share this product\\n\\n\\nVILLAON V20 SE 5.0\" 4G...</td>\n",
       "      <td>(0)</td>\n",
       "      <td>4,999</td>\n",
       "    </tr>\n",
       "    <tr>\n",
       "      <th>5361</th>\n",
       "      <td>Share this product\\n\\n\\nVILLAON V20 SE 5.0\" 4G...</td>\n",
       "      <td>(0)</td>\n",
       "      <td>4,999</td>\n",
       "    </tr>\n",
       "    <tr>\n",
       "      <th>5362</th>\n",
       "      <td>Iphone 11 pro max</td>\n",
       "      <td>(0)</td>\n",
       "      <td>40,000</td>\n",
       "    </tr>\n",
       "    <tr>\n",
       "      <th>5363</th>\n",
       "      <td>XIAOMI Redmi Note 13 6.67\" 8GB RAM/256 GB ROM ...</td>\n",
       "      <td>(0)</td>\n",
       "      <td>26,000</td>\n",
       "    </tr>\n",
       "  </tbody>\n",
       "</table>\n",
       "<p>5364 rows × 3 columns</p>\n",
       "</div>"
      ],
      "text/plain": [
       "                                            phones_name phones_reviews  \\\n",
       "0     Refurbished OPPO F11 A9 Smart Phone 128GB+6GB ...           (18)   \n",
       "1     Itel S23 Plus 128GB + 8(4+4)GB RAM 6.78'' Big ...          (165)   \n",
       "2     XIAOMI Redmi 14C 128GB Storage Upto 8(4+4)GB R...          (149)   \n",
       "3     New Arrival TECNO POP 9 128GB + 6(3+3)GB 4.5G ...           (87)   \n",
       "4     Itel A70 128GB+8(3+5)GB RAM 6.6\" Screen  4G Ne...          (578)   \n",
       "...                                                 ...            ...   \n",
       "5359  Share this product\\n\\n\\nVILLAON V20 SE 5.0\" 4G...            (0)   \n",
       "5360  Share this product\\n\\n\\nVILLAON V20 SE 5.0\" 4G...            (0)   \n",
       "5361  Share this product\\n\\n\\nVILLAON V20 SE 5.0\" 4G...            (0)   \n",
       "5362                                  Iphone 11 pro max            (0)   \n",
       "5363  XIAOMI Redmi Note 13 6.67\" 8GB RAM/256 GB ROM ...            (0)   \n",
       "\n",
       "     phones_price  \n",
       "0           7,499  \n",
       "1          13,599  \n",
       "2          12,910  \n",
       "3          11,499  \n",
       "4           9,799  \n",
       "...           ...  \n",
       "5359        4,999  \n",
       "5360        4,999  \n",
       "5361        4,999  \n",
       "5362       40,000  \n",
       "5363       26,000  \n",
       "\n",
       "[5364 rows x 3 columns]"
      ]
     },
     "execution_count": 5,
     "metadata": {},
     "output_type": "execute_result"
    }
   ],
   "source": [
    "dataframe['phones_price']= dataframe['phones_price'].str.strip('KSh,')\n",
    "dataframe"
   ]
  },
  {
   "cell_type": "code",
   "execution_count": 6,
   "metadata": {},
   "outputs": [
    {
     "data": {
      "text/html": [
       "<div>\n",
       "<style scoped>\n",
       "    .dataframe tbody tr th:only-of-type {\n",
       "        vertical-align: middle;\n",
       "    }\n",
       "\n",
       "    .dataframe tbody tr th {\n",
       "        vertical-align: top;\n",
       "    }\n",
       "\n",
       "    .dataframe thead th {\n",
       "        text-align: right;\n",
       "    }\n",
       "</style>\n",
       "<table border=\"1\" class=\"dataframe\">\n",
       "  <thead>\n",
       "    <tr style=\"text-align: right;\">\n",
       "      <th></th>\n",
       "      <th>phones_name</th>\n",
       "      <th>phones_reviews</th>\n",
       "      <th>phones_price</th>\n",
       "    </tr>\n",
       "  </thead>\n",
       "  <tbody>\n",
       "    <tr>\n",
       "      <th>0</th>\n",
       "      <td>Refurbished OPPO F11 A9 Smart Phone 128GB+6GB ...</td>\n",
       "      <td>18</td>\n",
       "      <td>7,499</td>\n",
       "    </tr>\n",
       "    <tr>\n",
       "      <th>1</th>\n",
       "      <td>Itel S23 Plus 128GB + 8(4+4)GB RAM 6.78'' Big ...</td>\n",
       "      <td>165</td>\n",
       "      <td>13,599</td>\n",
       "    </tr>\n",
       "    <tr>\n",
       "      <th>2</th>\n",
       "      <td>XIAOMI Redmi 14C 128GB Storage Upto 8(4+4)GB R...</td>\n",
       "      <td>149</td>\n",
       "      <td>12,910</td>\n",
       "    </tr>\n",
       "    <tr>\n",
       "      <th>3</th>\n",
       "      <td>New Arrival TECNO POP 9 128GB + 6(3+3)GB 4.5G ...</td>\n",
       "      <td>87</td>\n",
       "      <td>11,499</td>\n",
       "    </tr>\n",
       "    <tr>\n",
       "      <th>4</th>\n",
       "      <td>Itel A70 128GB+8(3+5)GB RAM 6.6\" Screen  4G Ne...</td>\n",
       "      <td>578</td>\n",
       "      <td>9,799</td>\n",
       "    </tr>\n",
       "    <tr>\n",
       "      <th>...</th>\n",
       "      <td>...</td>\n",
       "      <td>...</td>\n",
       "      <td>...</td>\n",
       "    </tr>\n",
       "    <tr>\n",
       "      <th>5359</th>\n",
       "      <td>Share this product\\n\\n\\nVILLAON V20 SE 5.0\" 4G...</td>\n",
       "      <td>0</td>\n",
       "      <td>4,999</td>\n",
       "    </tr>\n",
       "    <tr>\n",
       "      <th>5360</th>\n",
       "      <td>Share this product\\n\\n\\nVILLAON V20 SE 5.0\" 4G...</td>\n",
       "      <td>0</td>\n",
       "      <td>4,999</td>\n",
       "    </tr>\n",
       "    <tr>\n",
       "      <th>5361</th>\n",
       "      <td>Share this product\\n\\n\\nVILLAON V20 SE 5.0\" 4G...</td>\n",
       "      <td>0</td>\n",
       "      <td>4,999</td>\n",
       "    </tr>\n",
       "    <tr>\n",
       "      <th>5362</th>\n",
       "      <td>Iphone 11 pro max</td>\n",
       "      <td>0</td>\n",
       "      <td>40,000</td>\n",
       "    </tr>\n",
       "    <tr>\n",
       "      <th>5363</th>\n",
       "      <td>XIAOMI Redmi Note 13 6.67\" 8GB RAM/256 GB ROM ...</td>\n",
       "      <td>0</td>\n",
       "      <td>26,000</td>\n",
       "    </tr>\n",
       "  </tbody>\n",
       "</table>\n",
       "<p>5364 rows × 3 columns</p>\n",
       "</div>"
      ],
      "text/plain": [
       "                                            phones_name  phones_reviews  \\\n",
       "0     Refurbished OPPO F11 A9 Smart Phone 128GB+6GB ...              18   \n",
       "1     Itel S23 Plus 128GB + 8(4+4)GB RAM 6.78'' Big ...             165   \n",
       "2     XIAOMI Redmi 14C 128GB Storage Upto 8(4+4)GB R...             149   \n",
       "3     New Arrival TECNO POP 9 128GB + 6(3+3)GB 4.5G ...              87   \n",
       "4     Itel A70 128GB+8(3+5)GB RAM 6.6\" Screen  4G Ne...             578   \n",
       "...                                                 ...             ...   \n",
       "5359  Share this product\\n\\n\\nVILLAON V20 SE 5.0\" 4G...               0   \n",
       "5360  Share this product\\n\\n\\nVILLAON V20 SE 5.0\" 4G...               0   \n",
       "5361  Share this product\\n\\n\\nVILLAON V20 SE 5.0\" 4G...               0   \n",
       "5362                                  Iphone 11 pro max               0   \n",
       "5363  XIAOMI Redmi Note 13 6.67\" 8GB RAM/256 GB ROM ...               0   \n",
       "\n",
       "     phones_price  \n",
       "0           7,499  \n",
       "1          13,599  \n",
       "2          12,910  \n",
       "3          11,499  \n",
       "4           9,799  \n",
       "...           ...  \n",
       "5359        4,999  \n",
       "5360        4,999  \n",
       "5361        4,999  \n",
       "5362       40,000  \n",
       "5363       26,000  \n",
       "\n",
       "[5364 rows x 3 columns]"
      ]
     },
     "execution_count": 6,
     "metadata": {},
     "output_type": "execute_result"
    }
   ],
   "source": [
    "dataframe['phones_reviews'] = dataframe['phones_reviews'].str.extract(r'(\\d+)').astype(int)\n",
    "dataframe"
   ]
  },
  {
   "cell_type": "code",
   "execution_count": 8,
   "metadata": {},
   "outputs": [],
   "source": [
    "dataframe.to_csv(\"kilimall_clean_phones.csv\", index=False)"
   ]
  },
  {
   "cell_type": "code",
   "execution_count": 10,
   "metadata": {},
   "outputs": [
    {
     "name": "stdout",
     "output_type": "stream",
     "text": [
      "                                         phones_name     unknown_col  \\\n",
      "0                                        phones_name  phones_reviews   \n",
      "1  Refurbished OPPO F11 A9 Smart Phone 128GB6GB 6...              18   \n",
      "2  Itel S23 Plus 128GB  8(44)GB RAM 6.78'' Big Cu...             165   \n",
      "3  XIAOMI Redmi 14C 128GB Storage Upto 8(44)GB Ra...             149   \n",
      "4  New Arrival TECNO POP 9 128GB  6(33)GB 4.5G Fa...              87   \n",
      "\n",
      "   phones_price  \n",
      "0  phones_price  \n",
      "1         7,499  \n",
      "2        13,599  \n",
      "3        12,910  \n",
      "4        11,499  \n"
     ]
    }
   ],
   "source": [
    "import re\n",
    "import pandas as pd\n",
    "\n",
    "# Replace this with the path to your actual CSV file\n",
    "file_path = 'kilimall_clean_phones.csv'\n",
    "\n",
    "# Load the CSV file\n",
    "dataframe = pd.read_csv(file_path, header=None, names=['phones_name', 'unknown_col', 'phones_price'])\n",
    "\n",
    "# List of words to remove\n",
    "words_to_remove = [\n",
    "    'xmas', 'sale', 'new', 'arrival', 'brand', 'refurbished', 'year', 'sales', 'promotion', \n",
    "    'original', 'super', 'limited', 'offer', 'holiday', 'offers', 'black', 'friday', 'deals', \n",
    "    'arrivals', 'christmas', 'smart', 'end', 'free', 'charger', 'official', 'phones', 'special', \n",
    "    'buy', 'big', 'launch', 'november'\n",
    "]\n",
    "\n",
    "# Compile regex pattern\n",
    "pattern = r'\\b(?:' + '|'.join(map(re.escape, words_to_remove)) + r')\\b'\n",
    "\n",
    "# Functions to clean the data\n",
    "def remove_brackets(column):\n",
    "    return column.str.replace(r'\\[.*?\\]', '', regex=True)\n",
    "\n",
    "def clean_column(column):\n",
    "    return column.str.replace(pattern, '', flags=re.IGNORECASE).str.replace(r'\\s+', ' ', regex=True).str.strip()\n",
    "\n",
    "def remove_symbols(column):\n",
    "    return column.str.replace(r'[!\"+]', '', regex=True)\n",
    "\n",
    "# Apply cleaning functions\n",
    "dataframe['phones_name'] = remove_brackets(dataframe['phones_name'])  # Remove text in square brackets\n",
    "dataframe['phones_name'] = clean_column(dataframe['phones_name'])    # Remove unwanted words\n",
    "dataframe['phones_name'] = remove_symbols(dataframe['phones_name'])  # Remove special characters\n",
    "\n",
    "# Save cleaned data to a new CSV file\n",
    "cleaned_file_path = 'kilimall_clean_phones.csv'\n",
    "dataframe.to_csv(cleaned_file_path, index=False)\n",
    "\n",
    "# Display a sample of the cleaned data\n",
    "print(dataframe.head())\n"
   ]
  },
  {
   "cell_type": "code",
   "execution_count": 11,
   "metadata": {},
   "outputs": [
    {
     "data": {
      "text/html": [
       "<div>\n",
       "<style scoped>\n",
       "    .dataframe tbody tr th:only-of-type {\n",
       "        vertical-align: middle;\n",
       "    }\n",
       "\n",
       "    .dataframe tbody tr th {\n",
       "        vertical-align: top;\n",
       "    }\n",
       "\n",
       "    .dataframe thead th {\n",
       "        text-align: right;\n",
       "    }\n",
       "</style>\n",
       "<table border=\"1\" class=\"dataframe\">\n",
       "  <thead>\n",
       "    <tr style=\"text-align: right;\">\n",
       "      <th></th>\n",
       "      <th>phones_name</th>\n",
       "      <th>unknown_col</th>\n",
       "      <th>phones_price</th>\n",
       "    </tr>\n",
       "  </thead>\n",
       "  <tbody>\n",
       "    <tr>\n",
       "      <th>0</th>\n",
       "      <td>phones_name</td>\n",
       "      <td>phones_reviews</td>\n",
       "      <td>phones_price</td>\n",
       "    </tr>\n",
       "    <tr>\n",
       "      <th>1</th>\n",
       "      <td>OPPO F11 A9 Smart Phone 128GB6GB 6.5 4000mAh ...</td>\n",
       "      <td>18</td>\n",
       "      <td>7,499</td>\n",
       "    </tr>\n",
       "    <tr>\n",
       "      <th>2</th>\n",
       "      <td>Itel S23 Plus 128GB  8(44)GB RAM 6.78'' Big Cu...</td>\n",
       "      <td>165</td>\n",
       "      <td>13,599</td>\n",
       "    </tr>\n",
       "    <tr>\n",
       "      <th>3</th>\n",
       "      <td>XIAOMI Redmi 14C 128GB Storage Upto 8(44)GB Ra...</td>\n",
       "      <td>149</td>\n",
       "      <td>12,910</td>\n",
       "    </tr>\n",
       "    <tr>\n",
       "      <th>4</th>\n",
       "      <td>New Arrival TECNO POP 9 128GB  6(33)GB 4.5G Fa...</td>\n",
       "      <td>87</td>\n",
       "      <td>11,499</td>\n",
       "    </tr>\n",
       "  </tbody>\n",
       "</table>\n",
       "</div>"
      ],
      "text/plain": [
       "                                         phones_name     unknown_col  \\\n",
       "0                                        phones_name  phones_reviews   \n",
       "1   OPPO F11 A9 Smart Phone 128GB6GB 6.5 4000mAh ...              18   \n",
       "2  Itel S23 Plus 128GB  8(44)GB RAM 6.78'' Big Cu...             165   \n",
       "3  XIAOMI Redmi 14C 128GB Storage Upto 8(44)GB Ra...             149   \n",
       "4  New Arrival TECNO POP 9 128GB  6(33)GB 4.5G Fa...              87   \n",
       "\n",
       "   phones_price  \n",
       "0  phones_price  \n",
       "1         7,499  \n",
       "2        13,599  \n",
       "3        12,910  \n",
       "4        11,499  "
      ]
     },
     "execution_count": 11,
     "metadata": {},
     "output_type": "execute_result"
    }
   ],
   "source": [
    "# import re\n",
    "# pattern = r\"[Refurbished]\"\n",
    "dataframe[\"phones_name\"] = dataframe[\"phones_name\"].str.replace(\"Refurbished\", \"\")\n",
    "dataframe.head()"
   ]
  },
  {
   "cell_type": "code",
   "execution_count": 12,
   "metadata": {},
   "outputs": [],
   "source": [
    "dataframe.to_csv(\"kilimall_clean_phones.csv\", index=False)\n"
   ]
  },
  {
   "cell_type": "code",
   "execution_count": 13,
   "metadata": {},
   "outputs": [
    {
     "name": "stdout",
     "output_type": "stream",
     "text": [
      "                                         phones_name     unknown_col  \\\n",
      "0                                        phones_name  phones_reviews   \n",
      "1  OPPO F11 A9   128GB6GB 6.5 4000mAh Fingerprint...              18   \n",
      "2  Itel S23 Plus 128GB  8(44)GB RAM 6.78'' Big Cu...             165   \n",
      "3  XIAOMI Redmi 14C 128GB Storage Upto 8(44)GB Ra...             149   \n",
      "4  TECNO POP 9 128GB  6(33)GB 4.5G Fast Network 6...              87   \n",
      "\n",
      "   phones_price  \n",
      "0  phones_price  \n",
      "1         7,499  \n",
      "2        13,599  \n",
      "3        12,910  \n",
      "4        11,499  \n"
     ]
    }
   ],
   "source": [
    "\n",
    "# List of words to remove\n",
    "words_to_remove = [\n",
    "    'xmas', 'sale', 'new', 'Xmas','Promotion','Year','phones','arrival', 'brand', 'refurbished', 'year', 'sales', 'promotion', \n",
    "    'original', 'super', 'limited', 'offer', 'holiday', 'offers', 'black', 'friday', 'deals', \n",
    "    'arrivals', 'christmas', 'smart', 'end', 'free', 'charger', 'official', 'phones', 'special', 'Smart',\n",
    "    'buy', 'big', 'launch', 'november','Limited','OFFER','Brand','New','Face','unlock','Arrival','Black','Friday','NEW','CHEAP','SMART','BLACK','NOVEMBER','OFFERS','Unlocked','Phones','BRAND','Original','Free','Charger','Exclusive','Special','Offer','Phone','LIMITED'\n",
    "    'anniversary','Arrivals','Best','for','a','Refirbishe','time','BRANDNEW','CHRISTMAS','HOLIDAY','OFFEROFFER','REFURBISHED','END','YEAR','Buy','Official','Offiicial','BIG','DEALS','ARRIVALS','OFFERS','Unlock','Google','system','Techweek','mobile','Harambee','phone','Global','Version'\n",
    "    ,'Refurbishe','Systems','Edition','Honor','ORIGINAL','Freeyond','machine','The','Refur','version','Latest','SOWHAT'\n",
    ",'GRAB','QUICK','SALE','Firmware','Super','Sale','Badili','FreeYond','Smartphone','HONOR','Cell','net','Top','International','edition','high','matching','EASTER','Sharp','YOUR'\n",
    ",'certified','Certified','DISCOUNT','SPECIAL','SPECIAL','ARRIVAL','Renovate','SEALED','OFFERSBRAND','EXPANDABLE','FRIDAY','FLASH','LIMTED'\n",
    "]\n",
    "\n",
    "# Create a regex pattern to match any of the words in the list\n",
    "pattern = r'\\b(?:' + '|'.join(map(re.escape, words_to_remove)) + r')\\b'\n",
    "\n",
    "# Apply the regex pattern to remove the words\n",
    "dataframe[\"phones_name\"] = dataframe[\"phones_name\"].str.replace(pattern, '', regex=True).str.strip()\n",
    "\n",
    "# Display the cleaned DataFrame\n",
    "print(dataframe.head())\n"
   ]
  },
  {
   "cell_type": "code",
   "execution_count": 14,
   "metadata": {},
   "outputs": [],
   "source": [
    "dataframe.to_csv(\"kilimall_clean_phones.csv\", index=False)"
   ]
  },
  {
   "cell_type": "code",
   "execution_count": 15,
   "metadata": {},
   "outputs": [
    {
     "name": "stdout",
     "output_type": "stream",
     "text": [
      "                                         phones_name     unknown_col  \\\n",
      "0                                        phones_name  phones_reviews   \n",
      "1  OPPO F11 A9   128GB6GB 6.5 4000mAh Fingerprint...              18   \n",
      "2  Itel S23 Plus 128GB  844GB RAM 6.78'' Big Curv...             165   \n",
      "3  XIAOMI Redmi 14C 128GB Storage Upto 844GB Ram ...             149   \n",
      "4  TECNO POP 9 128GB  633GB 4.5G Fast Network 6.6...              87   \n",
      "\n",
      "   phones_price  \n",
      "0  phones_price  \n",
      "1         7,499  \n",
      "2        13,599  \n",
      "3        12,910  \n",
      "4        11,499  \n"
     ]
    }
   ],
   "source": [
    "\n",
    "# Function to clean the phones_name column\n",
    "def clean_phones_name(name):\n",
    "    # Remove unwanted characters: (), {}, !!, [], \"\", and numbers before the first letter\n",
    "    name = re.sub(r'[\\(\\)\\{\\}\\[\\]\\\"!]+', '', name)  # Remove parentheses, brackets, quotes, and exclamation marks\n",
    "    name = re.sub(r'^\\d+\\s*', '', name)  # Remove numbers at the start of the string\n",
    "    return name.strip()  # Remove leading and trailing whitespace\n",
    "\n",
    "# Apply the cleaning function to the phones_name column\n",
    "dataframe[\"phones_name\"] = dataframe[\"phones_name\"].apply(clean_phones_name)\n",
    "\n",
    "# Display the cleaned DataFrame\n",
    "print(dataframe.head())\n",
    "\n"
   ]
  },
  {
   "cell_type": "code",
   "execution_count": 16,
   "metadata": {},
   "outputs": [
    {
     "name": "stdout",
     "output_type": "stream",
     "text": [
      "                                         phones_name     unknown_col  \\\n",
      "0                                        phones_name  phones_reviews   \n",
      "1  OPPO F11 A9   128GB6GB 6.5 4000mAh Fingerprint...              18   \n",
      "2  Itel S23 Plus 128GB  844GB RAM 6.78'' Big Curv...             165   \n",
      "3  XIAOMI Redmi 14C 128GB Storage Upto 844GB Ram ...             149   \n",
      "4  TECNO POP 9 128GB  633GB 4.5G Fast Network 6.6...              87   \n",
      "\n",
      "   phones_price  \n",
      "0  phones_price  \n",
      "1         7,499  \n",
      "2        13,599  \n",
      "3        12,910  \n",
      "4        11,499  \n"
     ]
    }
   ],
   "source": [
    "\n",
    "# Function to remove the first quotation mark\n",
    "def remove_first_quote(name):\n",
    "    return re.sub(r'^[\\'\"]', '', name)  # Remove the first single or double quote if present\n",
    "\n",
    "# Apply the function to the phones_name column\n",
    "dataframe[\"phones_name\"] = dataframe[\"phones_name\"].apply(remove_first_quote)\n",
    "\n",
    "# Display the cleaned DataFrame\n",
    "print(dataframe.head())\n",
    "\n",
    "dataframe.to_csv(\"kilimall_clean_phones.csv\", index=False)"
   ]
  },
  {
   "cell_type": "code",
   "execution_count": 17,
   "metadata": {},
   "outputs": [
    {
     "name": "stdout",
     "output_type": "stream",
     "text": [
      "                                         phones_name     unknown_col  \\\n",
      "0                                        phones_name  phones_reviews   \n",
      "1  OPPO F11 A9   128GB6GB 6.5 4000mAh Fingerprint...              18   \n",
      "2  Itel S23 Plus 128GB  844GB RAM 6.78'' Big Curv...             165   \n",
      "3  XIAOMI Redmi 14C 128GB Storage Upto 844GB Ram ...             149   \n",
      "4  TECNO POP 9 128GB  633GB 4.5G Fast Network 6.6...              87   \n",
      "\n",
      "   phones_price  \n",
      "0  phones_price  \n",
      "1         7,499  \n",
      "2        13,599  \n",
      "3        12,910  \n",
      "4        11,499  \n"
     ]
    }
   ],
   "source": [
    "\n",
    "# Function to ensure the first character is an alphabet\n",
    "def remove_non_alphabet_start(name):\n",
    "    return re.sub(r'^[^a-zA-Z]+', '', name)  # Remove any non-alphabet characters from the start\n",
    "\n",
    "# Apply the function to the phones_name column\n",
    "dataframe[\"phones_name\"] = dataframe[\"phones_name\"].apply(remove_non_alphabet_start)\n",
    "\n",
    "# Display the cleaned DataFrame\n",
    "print(dataframe.head())\n",
    "dataframe.to_csv(\"kilimall_clean_phones.csv\", index=False)\n"
   ]
  },
  {
   "cell_type": "code",
   "execution_count": 18,
   "metadata": {},
   "outputs": [
    {
     "name": "stdout",
     "output_type": "stream",
     "text": [
      "                                         phones_name unknown_col phones_price\n",
      "0  OPPO F11 A9   128GB6GB 6.5 4000mAh Fingerprint...          18        7,499\n",
      "1  Itel S23 Plus 128GB  844GB RAM 6.78'' Big Curv...         165       13,599\n",
      "2  XIAOMI Redmi 14C 128GB Storage Upto 844GB Ram ...         149       12,910\n",
      "3  TECNO POP 9 128GB  633GB 4.5G Fast Network 6.6...          87       11,499\n",
      "4  Itel A70 128GB835GB RAM 6.6 Screen 4G Network ...         578        9,799\n"
     ]
    }
   ],
   "source": [
    "# Delete the first row\n",
    "dataframe = dataframe.drop(index=0)\n",
    "\n",
    "# Reset index if you want to reindex the DataFrame\n",
    "dataframe = dataframe.reset_index(drop=True)\n",
    "\n",
    "# Display the updated DataFrame\n",
    "print(dataframe.head())\n"
   ]
  },
  {
   "cell_type": "code",
   "execution_count": 19,
   "metadata": {},
   "outputs": [],
   "source": [
    "ram_pattern = r'\\b(2|3|4|6|8|12|24)\\s*GB'\n",
    "\n",
    "# Function to extract RAM size\n",
    "def extract_ram(phones_name):\n",
    "    ram = re.findall(ram_pattern, phones_name)  # Find all occurrences that match the pattern\n",
    "    return ram[0] if ram else None  # If found, return the first match; else return None\n",
    "\n",
    "storage_pattern = r'\\b(16|32|64|128|256)\\s*GB'\n",
    "def extract_storage(phones_name):\n",
    "    storage = re.findall(storage_pattern, phones_name)  # Find all occurrences that match the pattern\n",
    "    return storage[0] if storage else None  # If found, return the first match; else return None\n",
    "def extract_brand(phones_name):\n",
    "    # Split the name into words and take the first two or three\n",
    "    words = phones_name.split()\n",
    "    return ' '.join(words[:3])  # Return the first three words (or fewer if not available)\n",
    "def extract_battery(phones_name):\n",
    "    # Search for a pattern that captures numbers followed by 'mAh'\n",
    "    match = re.search(r'(\\d+)\\s*mAh', phones_name)\n",
    "    if match:\n",
    "        return match.group(1)  # Return the first captured group (the number)\n",
    "    return None  # If no match, return None\n",
    "\n",
    "# Apply the function to the 'phones_name' column and create a new 'battery' column\n",
    "dataframe['battery'] = dataframe['phones_name'].apply(extract_battery)\n",
    "# Apply the function to the 'phones_name' column and create a new 'storage' column\n",
    "dataframe['ram'] = dataframe['phones_name'].apply(extract_ram)\n",
    "dataframe['storage'] = dataframe['phones_name'].apply(extract_storage)\n",
    "# Apply the function to the 'phones_name' column and create a new 'brand' column\n",
    "dataframe['brand'] = dataframe['phones_name'].apply(extract_brand)\n"
   ]
  },
  {
   "cell_type": "code",
   "execution_count": 20,
   "metadata": {},
   "outputs": [
    {
     "name": "stdout",
     "output_type": "stream",
     "text": [
      "                                            phones_name unknown_col  \\\n",
      "0     OPPO F11 A9   128GB6GB 6.5 4000mAh Fingerprint...          18   \n",
      "1     Itel S23 Plus 128GB  844GB RAM 6.78'' Big Curv...         165   \n",
      "2     XIAOMI Redmi 14C 128GB Storage Upto 844GB Ram ...         149   \n",
      "3     TECNO POP 9 128GB  633GB 4.5G Fast Network 6.6...          87   \n",
      "4     Itel A70 128GB835GB RAM 6.6 Screen 4G Network ...         578   \n",
      "...                                                 ...         ...   \n",
      "5359  Share this product VILLAON V20 SE 5.0 4GB RAM3...           0   \n",
      "5360  Share this product VILLAON V20 SE 5.0 4GB RAM3...           0   \n",
      "5361  Share this product VILLAON V20 SE 5.0 4GB RAM3...           0   \n",
      "5362                                  Iphone 11 pro max           0   \n",
      "5363  XIAOMI Redmi Note 13 6.67 8GB RAM/256 GB ROM A...           0   \n",
      "\n",
      "     phones_price battery   ram storage                brand  \n",
      "0           7,499    4000  None     128          OPPO F11 A9  \n",
      "1          13,599    5000  None     128        Itel S23 Plus  \n",
      "2          12,910    5160  None     128     XIAOMI Redmi 14C  \n",
      "3          11,499    5000  None     128          TECNO POP 9  \n",
      "4           9,799    5000  None     128  Itel A70 128GB835GB  \n",
      "...           ...     ...   ...     ...                  ...  \n",
      "5359        4,999    3000     4    None   Share this product  \n",
      "5360        4,999    3000     4    None   Share this product  \n",
      "5361        4,999    3000     4    None   Share this product  \n",
      "5362       40,000    None  None    None        Iphone 11 pro  \n",
      "5363       26,000    None     8     256    XIAOMI Redmi Note  \n",
      "\n",
      "[5364 rows x 7 columns]\n"
     ]
    }
   ],
   "source": [
    "print(dataframe)"
   ]
  },
  {
   "cell_type": "code",
   "execution_count": 21,
   "metadata": {},
   "outputs": [],
   "source": [
    "\n",
    "\n",
    "dataframe.to_csv(\"kilimall_clean_phones.csv\", index=False)"
   ]
  },
  {
   "cell_type": "code",
   "execution_count": 22,
   "metadata": {},
   "outputs": [
    {
     "name": "stdout",
     "output_type": "stream",
     "text": [
      "                    brand storage   ram phones_price reviews battery\n",
      "0             OPPO F11 A9     128  None        7,499      18    4000\n",
      "1           Itel S23 Plus     128  None       13,599     165    5000\n",
      "2        XIAOMI Redmi 14C     128  None       12,910     149    5160\n",
      "3             TECNO POP 9     128  None       11,499      87    5000\n",
      "4     Itel A70 128GB835GB     128  None        9,799     578    5000\n",
      "...                   ...     ...   ...          ...     ...     ...\n",
      "5359   Share this product    None     4        4,999       0    3000\n",
      "5360   Share this product    None     4        4,999       0    3000\n",
      "5361   Share this product    None     4        4,999       0    3000\n",
      "5362        Iphone 11 pro    None  None       40,000       0    None\n",
      "5363    XIAOMI Redmi Note     256     8       26,000       0    None\n",
      "\n",
      "[5364 rows x 6 columns]\n"
     ]
    }
   ],
   "source": [
    "\n",
    "dataframe['brand'] = dataframe['phones_name'].apply(extract_brand)\n",
    "dataframe['storage'] = dataframe['phones_name'].apply(extract_storage)\n",
    "dataframe['ram'] = dataframe['phones_name'].apply(extract_ram)\n",
    "dataframe['battery'] = dataframe['phones_name'].apply(extract_battery)\n",
    "dataframe.rename(columns={'unknown_col': 'reviews'}, inplace=True)\n",
    "\n",
    "new_dataframe = dataframe[['brand', 'storage', 'ram', 'phones_price', 'reviews', 'battery']]\n",
    "\n",
    "# Display the updated DataFrame\n",
    "print(new_dataframe)\n",
    "\n",
    "\n"
   ]
  },
  {
   "cell_type": "code",
   "execution_count": 23,
   "metadata": {},
   "outputs": [
    {
     "name": "stdout",
     "output_type": "stream",
     "text": [
      "                    brand storage   ram phones_price reviews battery\n",
      "0             OPPO F11 A9     128  None        7,499      18    4000\n",
      "1           Itel S23 Plus     128  None       13,599     165    5000\n",
      "2        XIAOMI Redmi 14C     128  None       12,910     149    5160\n",
      "3             TECNO POP 9     128  None       11,499      87    5000\n",
      "4     Itel A70 128GB835GB     128  None        9,799     578    5000\n",
      "...                   ...     ...   ...          ...     ...     ...\n",
      "5359   Share this product    None     4        4,999       0    3000\n",
      "5360   Share this product    None     4        4,999       0    3000\n",
      "5361   Share this product    None     4        4,999       0    3000\n",
      "5362        Iphone 11 pro    None  None       40,000       0    None\n",
      "5363    XIAOMI Redmi Note     256     8       26,000       0    None\n",
      "\n",
      "[5364 rows x 6 columns]\n"
     ]
    },
    {
     "name": "stderr",
     "output_type": "stream",
     "text": [
      "C:\\Users\\Vivian.Obino1\\AppData\\Local\\Temp\\ipykernel_14540\\1074087040.py:2: SettingWithCopyWarning: \n",
      "A value is trying to be set on a copy of a slice from a DataFrame\n",
      "\n",
      "See the caveats in the documentation: https://pandas.pydata.org/pandas-docs/stable/user_guide/indexing.html#returning-a-view-versus-a-copy\n",
      "  new_dataframe.rename(columns={'unknown_col': 'reviews'}, inplace=True)\n"
     ]
    }
   ],
   "source": [
    "# Rename 'unknown_col' to 'reviews'\n",
    "new_dataframe.rename(columns={'unknown_col': 'reviews'}, inplace=True)\n",
    "\n",
    "# Display the updated DataFrame\n",
    "print(new_dataframe)\n"
   ]
  },
  {
   "cell_type": "code",
   "execution_count": 24,
   "metadata": {},
   "outputs": [],
   "source": [
    "\n",
    "new_dataframe.to_csv(\"kilimall_clean_phones.csv\", index=False)"
   ]
  }
 ],
 "metadata": {
  "kernelspec": {
   "display_name": "Python 3",
   "language": "python",
   "name": "python3"
  },
  "language_info": {
   "codemirror_mode": {
    "name": "ipython",
    "version": 3
   },
   "file_extension": ".py",
   "mimetype": "text/x-python",
   "name": "python",
   "nbconvert_exporter": "python",
   "pygments_lexer": "ipython3",
   "version": "3.13.1"
  }
 },
 "nbformat": 4,
 "nbformat_minor": 2
}
