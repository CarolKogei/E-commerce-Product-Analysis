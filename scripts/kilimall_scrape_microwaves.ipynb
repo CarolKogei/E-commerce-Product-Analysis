{
 "cells": [
  {
   "cell_type": "code",
   "execution_count": 12,
   "metadata": {},
   "outputs": [],
   "source": [
    "import time\n",
    "import requests\n",
    "from bs4 import BeautifulSoup\n",
    "import pandas as pd"
   ]
  },
  {
   "cell_type": "code",
   "execution_count": 13,
   "metadata": {},
   "outputs": [],
   "source": [
    "baseurl = \"https://www.kilimall.co.ke/\"\n",
    "headers = {'User-Agent' : 'Mozilla/5.0 (Windows NT 10.0; WOW64) AppleWebKit/537.36 (KHTML, like Gecko) Chrome/123.0.6312.123 Safari/537.36 AOLShield/123.0.6312.3'}"
   ]
  },
  {
   "cell_type": "code",
   "execution_count": 14,
   "metadata": {},
   "outputs": [
    {
     "name": "stdout",
     "output_type": "stream",
     "text": [
      "1476\n"
     ]
    }
   ],
   "source": [
    "import time\n",
    "import requests\n",
    "from bs4 import BeautifulSoup\n",
    "import pandas as pd\n",
    "\n",
    "baseurl = \"https://www.kilimall.co.ke/\"\n",
    "headers = {'User-Agent' : 'Mozilla/5.0 (Windows NT 10.0; WOW64) AppleWebKit/537.36 (KHTML, like Gecko) Chrome/123.0.6312.123 Safari/537.36 AOLShield/123.0.6312.3'}\n",
    "\n",
    "microwaves_links = []\n",
    "\n",
    "for x in range(1,42):\n",
    "    r = requests.get(f\"https://www.kilimall.co.ke/search?q=microwave&page={x}&source=search|enterSearch|microwave\")\n",
    "    soup_microwave = BeautifulSoup(r.content, \"html.parser\")\n",
    "    microwaves_list = soup_microwave.find_all(\"div\", class_ = \"product-item\")\n",
    "\n",
    "    for microwave in microwaves_list:\n",
    "        for link in microwave.find_all(\"a\", href = True):\n",
    "            microwaves_links.append(\"https://www.kilimall.co.ke\" + link[\"href\"])\n",
    "\n",
    "print(len(microwaves_links)) \n"
   ]
  },
  {
   "cell_type": "code",
   "execution_count": 9,
   "metadata": {},
   "outputs": [],
   "source": [
    "import requests\n",
    "from bs4 import BeautifulSoup\n",
    "import csv\n",
    "import pandas as pd\n",
    "import time\n",
    "\n",
    "baseurl = \"https://www.kilimall.co.ke/\"\n",
    "headers = {'User-Agent' : 'Mozilla/5.0 (Windows NT 10.0; WOW64) AppleWebKit/537.36 (KHTML, like Gecko) Chrome/123.0.6312.123 Safari/537.36 AOLShield/123.0.6312.3'} \n",
    "\n",
    "microwaves_links =[]\n",
    "for x in range(1, 150): \n",
    "        r_microwave = requests.get(f\"https://www.kilimall.co.ke/search?q=microwaves&page={x}&source=search|enterSearch|microwaves\", headers = headers)\n",
    "        soup_microwave= BeautifulSoup(r_microwave.content, \"html.parser\")\n",
    "        items = soup_microwave.find_all(\"div\", class_=\"product-item\")\n",
    "\n",
    "        for item in items:\n",
    "              for link in item.find_all(\"a\", href = True):\n",
    "                microwaves_links.append(\"https://www.kilimall.co.ke\" + link[\"href\"])\n",
    "microwaves_list =[]\n",
    "for x in range(1, 150): \n",
    "        r_microwaves = requests.get(f\"https://www.kilimall.co.ke/search?q=microwaves&page={x}&source=search|enterSearch|microwaves\", headers = headers)\n",
    "        soup_microwaves= BeautifulSoup(r_microwaves.content, \"html.parser\")\n",
    "        items = soup_microwaves.find_all(\"div\", class_=\"info-box\")\n",
    "        for item in items:\n",
    "                try:\n",
    "                    microwaves_name = item.find(\"p\", class_=\"product-title\").text.strip()\n",
    "                    microwaves_price = item.find(\"div\", class_=\"product-price\").text.strip()\n",
    "                    microwaves_reviews = item.find(\"span\", class_=\"reviews\").text.strip() if item.find(\"span\", class_=\"reviews\") else \"No reviews\"\n",
    "                    a_tag = item.find(\"a\", href=True)\n",
    "                    microwaves_url = \"https://www.kilimall.co.ke\" + a_tag[\"href\"] if a_tag else \"No URL available\"\n",
    "                \n",
    "                    # Define a dictionary for each microwave\n",
    "                    microwave_dict = {\n",
    "                        \"microwaves_name\": microwaves_name,\n",
    "                        \"microwaves_reviews\": microwaves_reviews,\n",
    "                        \"microwaves_price\": microwaves_price,\n",
    "                    }\n",
    "                    microwaves_list.append(microwave_dict)\n",
    "\n",
    "                except AttributeError:\n",
    "                # Skip items with missing data\n",
    "                    continue\n",
    "microwaves_df = pd.DataFrame(microwaves_list)\n",
    "microwaves_df['microwaves_url'] = microwaves_links\n",
    "microwaves_df.to_csv(r\"C:\\Users\\Vivian.Obino1\\Desktop\\e-commerce analysis\\data\\scraped\\kilimall_microwaves_scraped.csv\")"
   ]
  }
 ],
 "metadata": {
  "kernelspec": {
   "display_name": "Python 3",
   "language": "python",
   "name": "python3"
  },
  "language_info": {
   "codemirror_mode": {
    "name": "ipython",
    "version": 3
   },
   "file_extension": ".py",
   "mimetype": "text/x-python",
   "name": "python",
   "nbconvert_exporter": "python",
   "pygments_lexer": "ipython3",
   "version": "3.13.1"
  }
 },
 "nbformat": 4,
 "nbformat_minor": 2
}
