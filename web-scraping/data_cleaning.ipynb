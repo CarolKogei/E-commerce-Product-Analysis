{
 "cells": [
  {
   "cell_type": "markdown",
   "metadata": {},
   "source": [
    "## Laptops Data."
   ]
  },
  {
   "cell_type": "code",
   "execution_count": 4,
   "metadata": {},
   "outputs": [],
   "source": [
    "# Import libraries\n",
    "import pandas as pd\n",
    "import re"
   ]
  },
  {
   "cell_type": "code",
   "execution_count": 4,
   "metadata": {},
   "outputs": [
    {
     "data": {
      "text/html": [
       "<div>\n",
       "<style scoped>\n",
       "    .dataframe tbody tr th:only-of-type {\n",
       "        vertical-align: middle;\n",
       "    }\n",
       "\n",
       "    .dataframe tbody tr th {\n",
       "        vertical-align: top;\n",
       "    }\n",
       "\n",
       "    .dataframe thead th {\n",
       "        text-align: right;\n",
       "    }\n",
       "</style>\n",
       "<table border=\"1\" class=\"dataframe\">\n",
       "  <thead>\n",
       "    <tr style=\"text-align: right;\">\n",
       "      <th></th>\n",
       "      <th>Name</th>\n",
       "      <th>Price</th>\n",
       "      <th>Reviews</th>\n",
       "      <th>Ratings</th>\n",
       "    </tr>\n",
       "  </thead>\n",
       "  <tbody>\n",
       "    <tr>\n",
       "      <th>0</th>\n",
       "      <td>HP  Refurbished EliteBook 640GB HDD, 8GB RAM, ...</td>\n",
       "      <td>KSh 20,300</td>\n",
       "      <td>3.7 out of 5(13)</td>\n",
       "      <td>3.7 out of 5</td>\n",
       "    </tr>\n",
       "    <tr>\n",
       "      <th>1</th>\n",
       "      <td>HP Refurbished EliteBook 820 Core I5, 8GB RAM ...</td>\n",
       "      <td>KSh 16,499</td>\n",
       "      <td>5 out of 5(1)</td>\n",
       "      <td>5 out of 5</td>\n",
       "    </tr>\n",
       "    <tr>\n",
       "      <th>2</th>\n",
       "      <td>Lenovo ThinkPad T490 Touchscreen Core I5 -8th ...</td>\n",
       "      <td>KSh 27,999</td>\n",
       "      <td>4 out of 5(9)</td>\n",
       "      <td>4 out of 5</td>\n",
       "    </tr>\n",
       "    <tr>\n",
       "      <th>3</th>\n",
       "      <td>HP Refurbished EliteBook 840 G3 Intel Core I5 ...</td>\n",
       "      <td>KSh 23,500</td>\n",
       "      <td>4 out of 5(1)</td>\n",
       "      <td>4 out of 5</td>\n",
       "    </tr>\n",
       "    <tr>\n",
       "      <th>4</th>\n",
       "      <td>HP GAMING-LAPTOP -HP ELITEBOOK 755 AMD RYZEN 7...</td>\n",
       "      <td>KSh 35,000</td>\n",
       "      <td>4.4 out of 5(9)</td>\n",
       "      <td>4.4 out of 5</td>\n",
       "    </tr>\n",
       "  </tbody>\n",
       "</table>\n",
       "</div>"
      ],
      "text/plain": [
       "                                                Name       Price  \\\n",
       "0  HP  Refurbished EliteBook 640GB HDD, 8GB RAM, ...  KSh 20,300   \n",
       "1  HP Refurbished EliteBook 820 Core I5, 8GB RAM ...  KSh 16,499   \n",
       "2  Lenovo ThinkPad T490 Touchscreen Core I5 -8th ...  KSh 27,999   \n",
       "3  HP Refurbished EliteBook 840 G3 Intel Core I5 ...  KSh 23,500   \n",
       "4  HP GAMING-LAPTOP -HP ELITEBOOK 755 AMD RYZEN 7...  KSh 35,000   \n",
       "\n",
       "            Reviews       Ratings  \n",
       "0  3.7 out of 5(13)  3.7 out of 5  \n",
       "1     5 out of 5(1)    5 out of 5  \n",
       "2     4 out of 5(9)    4 out of 5  \n",
       "3     4 out of 5(1)    4 out of 5  \n",
       "4   4.4 out of 5(9)  4.4 out of 5  "
      ]
     },
     "execution_count": 4,
     "metadata": {},
     "output_type": "execute_result"
    }
   ],
   "source": [
    "# Data loading\n",
    "laptops_df = pd.read_csv(\"./data/laptops.csv\")\n",
    "laptops_df.head()"
   ]
  },
  {
   "cell_type": "code",
   "execution_count": 2,
   "metadata": {},
   "outputs": [
    {
     "data": {
      "text/html": [
       "<div>\n",
       "<style scoped>\n",
       "    .dataframe tbody tr th:only-of-type {\n",
       "        vertical-align: middle;\n",
       "    }\n",
       "\n",
       "    .dataframe tbody tr th {\n",
       "        vertical-align: top;\n",
       "    }\n",
       "\n",
       "    .dataframe thead th {\n",
       "        text-align: right;\n",
       "    }\n",
       "</style>\n",
       "<table border=\"1\" class=\"dataframe\">\n",
       "  <thead>\n",
       "    <tr style=\"text-align: right;\">\n",
       "      <th></th>\n",
       "      <th>Name</th>\n",
       "      <th>Price</th>\n",
       "      <th>Reviews</th>\n",
       "      <th>Ratings</th>\n",
       "    </tr>\n",
       "  </thead>\n",
       "  <tbody>\n",
       "    <tr>\n",
       "      <th>0</th>\n",
       "      <td>Ramtons RF/335 - 85L Single Door Refrigerator ...</td>\n",
       "      <td>KSh 15,999</td>\n",
       "      <td>4.1 out of 5(66)</td>\n",
       "      <td>4.1 out of 5</td>\n",
       "    </tr>\n",
       "    <tr>\n",
       "      <th>1</th>\n",
       "      <td>Hisense 94 Liters Single Door Fridge REF094DR ...</td>\n",
       "      <td>KSh 16,799</td>\n",
       "      <td>4.3 out of 5(89)</td>\n",
       "      <td>4.3 out of 5</td>\n",
       "    </tr>\n",
       "    <tr>\n",
       "      <th>2</th>\n",
       "      <td>Ramtons RF/203, 2 Door Direct Cool Fridge, 128...</td>\n",
       "      <td>KSh 28,099</td>\n",
       "      <td>4.2 out of 5(69)</td>\n",
       "      <td>4.2 out of 5</td>\n",
       "    </tr>\n",
       "    <tr>\n",
       "      <th>3</th>\n",
       "      <td>Roch RFR-120S-I Single Door Refrigerator - 90 ...</td>\n",
       "      <td>KSh 16,299</td>\n",
       "      <td>4.2 out of 5(478)</td>\n",
       "      <td>4.2 out of 5</td>\n",
       "    </tr>\n",
       "    <tr>\n",
       "      <th>4</th>\n",
       "      <td>Nunix 138L Double Door Fridge Energy Efficient...</td>\n",
       "      <td>KSh 27,500</td>\n",
       "      <td>3.9 out of 5(149)</td>\n",
       "      <td>3.9 out of 5</td>\n",
       "    </tr>\n",
       "  </tbody>\n",
       "</table>\n",
       "</div>"
      ],
      "text/plain": [
       "                                                Name       Price  \\\n",
       "0  Ramtons RF/335 - 85L Single Door Refrigerator ...  KSh 15,999   \n",
       "1  Hisense 94 Liters Single Door Fridge REF094DR ...  KSh 16,799   \n",
       "2  Ramtons RF/203, 2 Door Direct Cool Fridge, 128...  KSh 28,099   \n",
       "3  Roch RFR-120S-I Single Door Refrigerator - 90 ...  KSh 16,299   \n",
       "4  Nunix 138L Double Door Fridge Energy Efficient...  KSh 27,500   \n",
       "\n",
       "             Reviews       Ratings  \n",
       "0   4.1 out of 5(66)  4.1 out of 5  \n",
       "1   4.3 out of 5(89)  4.3 out of 5  \n",
       "2   4.2 out of 5(69)  4.2 out of 5  \n",
       "3  4.2 out of 5(478)  4.2 out of 5  \n",
       "4  3.9 out of 5(149)  3.9 out of 5  "
      ]
     },
     "execution_count": 2,
     "metadata": {},
     "output_type": "execute_result"
    }
   ],
   "source": [
    "# Fridges data\n",
    "fridge = pd.read_csv(\"./fridges.csv\")\n",
    "fridge.head(5)"
   ]
  },
  {
   "cell_type": "code",
   "execution_count": null,
   "metadata": {},
   "outputs": [],
   "source": [
    "# Extract brand name and model\n",
    "def extract_brand_and_model(name):\n",
    "    match = re.match(r\"([A-Za-z]+(?: [A-Za-z]+)*)(?:\\s[RF|REF|FM|DF|D|]{2,4}[\\d]+)?\", name)\n",
    "    if match:\n",
    "        return match.group(1).strip()\n",
    "    return\n",
    "\n",
    "# Extract size in litres\n",
    "def extract_size(name):\n",
    "    match = re.search(r'(\\d+)\\s*Liters?', name)\n",
    "    if match:\n",
    "        return int(match.group(1))\n",
    "    return None\n"
   ]
  },
  {
   "cell_type": "code",
   "execution_count": null,
   "metadata": {},
   "outputs": [],
   "source": []
  }
 ],
 "metadata": {
  "kernelspec": {
   "display_name": ".venv",
   "language": "python",
   "name": "python3"
  },
  "language_info": {
   "codemirror_mode": {
    "name": "ipython",
    "version": 3
   },
   "file_extension": ".py",
   "mimetype": "text/x-python",
   "name": "python",
   "nbconvert_exporter": "python",
   "pygments_lexer": "ipython3",
   "version": "3.12.8"
  }
 },
 "nbformat": 4,
 "nbformat_minor": 2
}
